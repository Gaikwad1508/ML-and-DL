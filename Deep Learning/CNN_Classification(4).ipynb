{
 "cells": [
  {
   "cell_type": "code",
   "execution_count": 1,
   "id": "75808e0d-6c36-4df1-a691-570d2186bfff",
   "metadata": {},
   "outputs": [],
   "source": [
    "import numpy as np\n",
    "import pandas as pd\n",
    "%matplotlib inline\n",
    "import matplotlib as mpl\n",
    "import matplotlib.pyplot as plt"
   ]
  },
  {
   "cell_type": "code",
   "execution_count": 2,
   "id": "cc8357c2-8468-4016-be37-fdcadebc21a1",
   "metadata": {},
   "outputs": [],
   "source": [
    "import tensorflow as tf\n",
    "from tensorflow import keras"
   ]
  },
  {
   "cell_type": "code",
   "execution_count": 3,
   "id": "eb6ca8ff-889d-4772-b6f4-643bfd36b78c",
   "metadata": {},
   "outputs": [
    {
     "data": {
      "text/plain": [
       "'2.10.0'"
      ]
     },
     "execution_count": 3,
     "metadata": {},
     "output_type": "execute_result"
    }
   ],
   "source": [
    "tf.__version__"
   ]
  },
  {
   "cell_type": "code",
   "execution_count": 4,
   "id": "ed3cd202-ec10-4856-970a-dd3848a94cb5",
   "metadata": {},
   "outputs": [],
   "source": [
    "fashion_mnist = keras.datasets.fashion_mnist\n",
    "(x_train_full, y_train_full), (x_test, y_test) = fashion_mnist.load_data()"
   ]
  },
  {
   "cell_type": "code",
   "execution_count": 5,
   "id": "7828f8e9-99f3-4e12-978d-1dc7d95dca12",
   "metadata": {},
   "outputs": [
    {
     "data": {
      "text/plain": [
       "<matplotlib.image.AxesImage at 0x15dd58f2680>"
      ]
     },
     "execution_count": 5,
     "metadata": {},
     "output_type": "execute_result"
    }
   ],
   "source": [
    "plt.imshow(x_train_full[10])"
   ]
  },
  {
   "cell_type": "code",
   "execution_count": 6,
   "id": "1cd80bfa-b2c6-4179-8df5-d9365030af72",
   "metadata": {},
   "outputs": [
    {
     "data": {
      "text/plain": [
       "0"
      ]
     },
     "execution_count": 6,
     "metadata": {},
     "output_type": "execute_result"
    }
   ],
   "source": [
    "y_train_full[10]"
   ]
  },
  {
   "cell_type": "code",
   "execution_count": 7,
   "id": "4aa70875-f027-4db6-9978-83ab4d9001f7",
   "metadata": {},
   "outputs": [],
   "source": [
    "class_names = [\"T-shirt/top\", \"Trouser\", \"Pullover\", \"Dress\", \"Coat\", \"Sandal\", \"Shirt\",  \"Sneaker\", \"Bag\", \"Ankle boot\"]"
   ]
  },
  {
   "cell_type": "code",
   "execution_count": 8,
   "id": "c503e61e-3c39-45f0-a8da-fb30042c0659",
   "metadata": {},
   "outputs": [
    {
     "data": {
      "text/plain": [
       "'T-shirt/top'"
      ]
     },
     "execution_count": 8,
     "metadata": {},
     "output_type": "execute_result"
    }
   ],
   "source": [
    "class_names[y_train_full[1]]"
   ]
  },
  {
   "cell_type": "code",
   "execution_count": 9,
   "id": "f9f27f96-0d74-47dc-80e9-f2696e772af6",
   "metadata": {},
   "outputs": [
    {
     "data": {
      "text/plain": [
       "array([[  0,   0,   0,   0,   0,   0,   0,  11, 142, 200, 106,   0,   0,\n",
       "          0,   0,   0,   0,   0,  85, 185, 112,   0,   0,   0,   0,   0,\n",
       "          0,   0],\n",
       "       [  0,   0,   0,   0,   0,   0, 152, 214, 217, 194, 236, 216, 187,\n",
       "        149, 135, 153, 211, 217, 231, 205, 217, 188,  34,   0,   0,   0,\n",
       "          0,   0],\n",
       "       [  0,   0,   0,   0,   0,  66, 185, 166, 180, 181, 190, 211, 221,\n",
       "        197, 146, 198, 206, 191, 168, 190, 172, 188, 175,   0,   0,   0,\n",
       "          0,   0],\n",
       "       [  0,   0,   0,   0,   0, 135, 153, 160, 175, 180, 170, 186, 187,\n",
       "        190, 188, 190, 187, 174, 195, 185, 174, 161, 175,  59,   0,   0,\n",
       "          0,   0],\n",
       "       [  0,   0,   0,   0,   0, 161, 147, 160, 170, 178, 177, 180, 168,\n",
       "        173, 174, 171, 185, 184, 185, 172, 171, 164, 174, 120,   0,   0,\n",
       "          0,   0],\n",
       "       [  0,   0,   0,   0,   2, 175, 146, 145, 168, 178, 181, 185, 180,\n",
       "        184, 178, 179, 187, 191, 193, 190, 181, 171, 172, 158,   0,   0,\n",
       "          0,   0],\n",
       "       [  0,   0,   0,   0,  35, 177, 155, 140, 151, 172, 191, 187, 186,\n",
       "        187, 186, 187, 182, 191, 194, 188, 180, 161, 161, 185,   0,   0,\n",
       "          0,   0],\n",
       "       [  0,   0,   0,   0,  59, 170, 153, 141, 120, 154, 160, 161, 172,\n",
       "        168, 166, 161, 165, 172, 170, 164, 139, 149, 162, 166,  21,   0,\n",
       "          0,   0],\n",
       "       [  0,   0,   0,   0,  79, 145, 160, 214, 123, 128, 153, 160, 164,\n",
       "        158, 157, 154, 155, 170, 165, 141, 195, 193, 152, 166,  61,   0,\n",
       "          0,   0],\n",
       "       [  0,   0,   0,   0, 100, 157, 225, 245, 175, 113, 174, 158, 158,\n",
       "        160, 155, 160, 164, 178, 188, 135, 185, 240, 201, 172, 108,   0,\n",
       "          0,   0],\n",
       "       [  0,   0,   0,   0,   0,  31, 174,  28, 126, 153, 166, 152, 158,\n",
       "        158, 160, 161, 157, 168, 191, 188,  18, 132, 159,   7,   0,   0,\n",
       "          0,   0],\n",
       "       [  0,   0,   0,   0,   0,   0,   0,   0,  82, 187, 159, 153, 157,\n",
       "        158, 162, 164, 164, 154, 187, 190,   0,   0,   0,   0,   0,   0,\n",
       "          0,   0],\n",
       "       [  0,   0,   0,   0,   1,   3,   5,   0,  37, 175, 158, 155, 162,\n",
       "        158, 160, 162, 165, 153, 177, 205,   0,   0,   3,   3,   0,   0,\n",
       "          0,   0],\n",
       "       [  0,   0,   0,   0,   0,   0,   1,   0,  25, 175, 152, 160, 158,\n",
       "        161, 160, 164, 164, 161, 166, 200,   0,   0,   1,   0,   0,   0,\n",
       "          0,   0],\n",
       "       [  0,   0,   0,   0,   0,   0,   4,   0,  30, 171, 147, 164, 155,\n",
       "        165, 161, 165, 162, 170, 164, 162,   0,   0,   2,   0,   0,   0,\n",
       "          0,   0],\n",
       "       [  0,   0,   0,   0,   0,   0,   4,   0,  57, 166, 155, 164, 166,\n",
       "        161, 161, 164, 167, 165, 165, 162,  28,   0,   3,   0,   0,   0,\n",
       "          0,   0],\n",
       "       [  0,   0,   0,   0,   0,   0,   3,   0, 114, 161, 161, 166, 159,\n",
       "        168, 161, 161, 172, 162, 165, 171,  50,   0,   5,   0,   0,   0,\n",
       "          0,   0],\n",
       "       [  0,   0,   0,   0,   0,   0,   1,   0, 149, 157, 167, 172, 159,\n",
       "        172, 164, 161, 172, 170, 160, 171,  89,   0,   4,   0,   0,   0,\n",
       "          0,   0],\n",
       "       [  0,   0,   0,   0,   0,   2,   0,   4, 171, 164, 166, 173, 159,\n",
       "        179, 166, 160, 174, 167, 162, 166, 128,   0,   2,   0,   0,   0,\n",
       "          0,   0],\n",
       "       [  0,   0,   0,   0,   0,   3,   0,  18, 152, 173, 160, 179, 154,\n",
       "        181, 166, 164, 175, 170, 166, 170, 164,   0,   0,   1,   0,   0,\n",
       "          0,   0],\n",
       "       [  0,   0,   0,   0,   0,   4,   0,  47, 165, 172, 167, 185, 153,\n",
       "        187, 173, 165, 174, 179, 166, 166, 158,   5,   0,   3,   0,   0,\n",
       "          0,   0],\n",
       "       [  0,   0,   0,   0,   0,   4,   0,  87, 180, 162, 179, 179, 157,\n",
       "        191, 182, 165, 168, 190, 173, 165, 166,  20,   0,   4,   0,   0,\n",
       "          0,   0],\n",
       "       [  0,   0,   0,   0,   0,   4,   0, 105, 187, 157, 194, 175, 161,\n",
       "        190, 184, 170, 158, 205, 177, 168, 171,  44,   0,   4,   0,   0,\n",
       "          0,   0],\n",
       "       [  0,   0,   0,   0,   0,   5,   0, 138, 181, 158, 205, 160, 167,\n",
       "        190, 198, 167, 152, 218, 186, 170, 172,  57,   0,   5,   0,   0,\n",
       "          0,   0],\n",
       "       [  0,   0,   0,   0,   0,   5,   0, 135, 174, 167, 199, 155, 166,\n",
       "        201, 219, 165, 158, 218, 188, 167, 175,  56,   0,   7,   0,   0,\n",
       "          0,   0],\n",
       "       [  0,   0,   0,   0,   0,   5,   0, 129, 171, 172, 177, 153, 159,\n",
       "        206, 216, 148, 157, 206, 190, 165, 175,  48,   0,   5,   0,   0,\n",
       "          0,   0],\n",
       "       [  0,   0,   0,   0,   0,   5,   0, 167, 187, 182, 198, 194, 200,\n",
       "        226, 240, 184, 206, 255, 197, 178, 179,  42,   0,   5,   0,   0,\n",
       "          0,   0],\n",
       "       [  0,   0,   0,   0,   0,   3,   0, 115, 135, 113, 106,  85,  82,\n",
       "        108, 133,  83,  90, 121, 120, 110, 158,  18,   0,   3,   0,   0,\n",
       "          0,   0]], dtype=uint8)"
      ]
     },
     "execution_count": 9,
     "metadata": {},
     "output_type": "execute_result"
    }
   ],
   "source": [
    "x_train_full[10]       #It represents the pixel values of image present at 10th index of x_train_full with 28 rows and 28 columns"
   ]
  },
  {
   "cell_type": "markdown",
   "id": "b04872eb-8523-4521-92cf-e8a321be3bd1",
   "metadata": {},
   "source": [
    "## Data Reshape"
   ]
  },
  {
   "cell_type": "code",
   "execution_count": 10,
   "id": "f2549496-2840-43a5-b972-0abe95486b13",
   "metadata": {},
   "outputs": [],
   "source": [
    "x_train_full = x_train_full.reshape((60000, 28, 28, 1))       #Here we create 3D 28 and 28 for length and width , 1 is for no. of chnnels here gray scale images are only present so only one channel in case of color images we can use 3 channels.\n",
    "x_test = x_test.reshape((10000, 28, 28, 1))"
   ]
  },
  {
   "cell_type": "markdown",
   "id": "1c5d5072-3cff-4777-af92-84ce8b4e4f65",
   "metadata": {},
   "source": [
    "## Data Normalization\n",
    "* For running gradient descent model we need to normalize the data first between 0 and 1\n",
    "* We then normalizing the data dimensions so that they are of approximately the same scale.\n",
    "* For normalizing data we divide all the values by max value present in data\n",
    "* As we know in given dataset the values are present in the scale of 0 to 255. so we can directly dividing it by max value i.e. 255\n",
    "* But for general databases we don't know about absolute scale so we generally subtract the mean from these no.s and divided by their standard deviations."
   ]
  },
  {
   "cell_type": "code",
   "execution_count": 11,
   "id": "02d297f4-ce21-4737-af9f-c6f7255faca9",
   "metadata": {},
   "outputs": [],
   "source": [
    "x_train_n = x_train_full / 255.\n",
    "x_test_n = x_test / 255."
   ]
  },
  {
   "cell_type": "markdown",
   "id": "3f924bbe-1ae7-4f95-a7d2-c2414b428b5a",
   "metadata": {},
   "source": [
    "## Split the data into train/validation/test datasets\n",
    "In the earlier step of importing the data. We had 60,000 datasets for training and 10,000 test datasets. Now we know further split the trianing data into train/validation. Here is how each type of dataset is used in deep learning.\n",
    "\n",
    "    * Training data : Used for training the model.\n",
    "    * Validation data: Used for tuning the hyperparameters and evaluate the models.\n",
    "    * Test data: Used to test the model after the model has gone through initial vetting by the validation set."
   ]
  },
  {
   "cell_type": "code",
   "execution_count": 12,
   "id": "a285b611-0dd4-47ce-8b54-c427d3465744",
   "metadata": {},
   "outputs": [],
   "source": [
    "x_valid, x_train = x_train_n[: 5000], x_train_n[5000: ]\n",
    "y_valid, y_train = y_train_full[: 5000], y_train_full[5000: ]\n",
    "x_test = x_test_n"
   ]
  },
  {
   "cell_type": "markdown",
   "id": "414e02f6-7513-472a-abe0-f539e6299df0",
   "metadata": {},
   "source": [
    "## Create the model architecture \n",
    "There are two API's for defining a model in keras.\n",
    "\n",
    "    * Sequential model API:\n",
    "        used for straight forward networks like inputs are taken layer by layer. It means first layers output will be input for third layer not 4th or 5th layer.\n",
    "    \n",
    "    * Functional API:\n",
    "        used for complex networks like if we need the connect the input layer with something another hidden layer or any layer This model has this functionality. as it is more complex than sequential model api but it is flexible."
   ]
  },
  {
   "cell_type": "code",
   "execution_count": 13,
   "id": "f956401b-3152-4d7b-8f98-1ea12f475994",
   "metadata": {},
   "outputs": [],
   "source": [
    "np.random.seed(42)\n",
    "tf.random.set_seed(42)"
   ]
  },
  {
   "cell_type": "markdown",
   "id": "1ed671c8-c3af-4695-a4af-d657382fc890",
   "metadata": {},
   "source": [
    "\n",
    "* Input layer is 28x28 pixels we want out put as 10 categories.\n",
    "* as this is classification model so for hidden layers we are using ReLu Activation function and for Output layer Softmax Activation function."
   ]
  },
  {
   "cell_type": "code",
   "execution_count": 14,
   "id": "ff3ba91f-3faf-4cc8-ac2b-e8fccf7c8b7a",
   "metadata": {},
   "outputs": [],
   "source": [
    "model = keras.models.Sequential()\n",
    "model.add(keras.layers.Conv2D(filters = 32, kernel_size = (3, 3), strides = 1, padding = 'valid', activation = 'relu', input_shape = (28, 28, 1)))    #here kernel_size means the size of filter if we want 5x5 then we can modify using same.\n",
    "model.add(keras.layers.MaxPooling2D(2, 2))\n",
    "\n",
    "model.add(keras.layers.Flatten())\n",
    "model.add(keras.layers.Dense(300, activation = 'relu'))\n",
    "model.add(keras.layers.Dense(100, activation = 'relu'))\n",
    "model.add(keras.layers.Dense(10, activation = 'softmax'))"
   ]
  },
  {
   "cell_type": "markdown",
   "id": "1a835332-7e6a-49cb-b568-c926677f35e3",
   "metadata": {},
   "source": [
    "* Suggested the code by tensorflow for above same\n",
    "\n",
    "model = keras.models.Sequential()\n",
    "* Use the Input layer to define the input shape\n",
    "model.add(keras.layers.InputLayer(input_shape=(28, 28, 1)))\n",
    "\n",
    "* Add the Conv2D layer without specifying the input_shape here\n",
    "model.add(keras.layers.Conv2D(filters=32, kernel_size=(3, 3), strides=1, padding='valid', activation='relu'))\n",
    "\n",
    "* Add the MaxPooling2D layer\n",
    "model.add(keras.layers.MaxPooling2D(pool_size=(2, 2)))\n",
    "\n",
    "* Flatten the output and add Dense layers\n",
    "model.add(keras.layers.Flatten())\n",
    "model.add(keras.layers.Dense(300, activation='relu'))\n",
    "model.add(keras.layers.Dense(100, activation='relu'))\n",
    "model.add(keras.layers.Dense(10, activation='softmax'))"
   ]
  },
  {
   "cell_type": "markdown",
   "id": "56af7537-c4b8-4299-a227-7d5d414e5d55",
   "metadata": {},
   "source": [
    "*.add used for add the layer.\n",
    "* Flatten is used for convert the 2D array into 1D array.\n",
    "* .Dense is used for no. of neurons we want to make the layer with.\n",
    "* In classification model we use relu activation function for hidden layers and for output layer sofftmax activation function."
   ]
  },
  {
   "cell_type": "code",
   "execution_count": 15,
   "id": "b3edb753-5c53-4a59-985e-6b4af703c1ea",
   "metadata": {},
   "outputs": [
    {
     "name": "stdout",
     "output_type": "stream",
     "text": [
      "Model: \"sequential\"\n",
      "_________________________________________________________________\n",
      " Layer (type)                Output Shape              Param #   \n",
      "=================================================================\n",
      " conv2d (Conv2D)             (None, 26, 26, 32)        320       \n",
      "                                                                 \n",
      " max_pooling2d (MaxPooling2D  (None, 13, 13, 32)       0         \n",
      " )                                                               \n",
      "                                                                 \n",
      " flatten (Flatten)           (None, 5408)              0         \n",
      "                                                                 \n",
      " dense (Dense)               (None, 300)               1622700   \n",
      "                                                                 \n",
      " dense_1 (Dense)             (None, 100)               30100     \n",
      "                                                                 \n",
      " dense_2 (Dense)             (None, 10)                1010      \n",
      "                                                                 \n",
      "=================================================================\n",
      "Total params: 1,654,130\n",
      "Trainable params: 1,654,130\n",
      "Non-trainable params: 0\n",
      "_________________________________________________________________\n"
     ]
    }
   ],
   "source": [
    "model.summary()"
   ]
  },
  {
   "cell_type": "markdown",
   "id": "48718683-8c42-47ac-bd3c-38d6a20fd7ba",
   "metadata": {},
   "source": [
    "* In output shape we have not specified the class size so it has taken complete(  , 784), and neurons present in respective layers(  , 784.\n",
    "* param is the no. of variables that need to optimize. It is calculated like for dens_1 nerons are 100 and for above layer 300 so multiplying them and adding neurons no. equals 100 i.e present in dense_1 layer we get 30100."
   ]
  },
  {
   "cell_type": "code",
   "execution_count": 16,
   "id": "1bb6a3a3-28eb-46ff-a0ea-7bd88c2850b7",
   "metadata": {},
   "outputs": [
    {
     "data": {
      "image/png": "[encoded data removed]",
      "text/plain": [
       "<IPython.core.display.Image object>"
      ]
     },
     "execution_count": 16,
     "metadata": {},
     "output_type": "execute_result"
    }
   ],
   "source": [
    "#import pydot\n",
    "keras.utils.plot_model(model)"
   ]
  },
  {
   "cell_type": "markdown",
   "id": "9c53aba9-fecc-40ef-9f24-7969c26bded9",
   "metadata": {},
   "source": [
    "* We can access the parameters using get_weight() method"
   ]
  },
  {
   "cell_type": "markdown",
   "id": "a8d64c10-09ef-4f7a-9df5-e58bca7f2ad2",
   "metadata": {},
   "source": [
    "* Before training our model we need to setup the learning processes and to do that we will use the compile method.\n",
    "* In our data we have 10 different labels so we are using sparse_categorical_crossentropy.\n",
    "* If instead we have probability per class in our y variable then we have to use categorical_crossentropy.\n",
    "* If we had binary labels such as yes or no , true or false in this case we have to use binary_crossentropy.\n",
    "* optimizer set to \"sgd\" it means stocastic gradient descent. in other words we are telling to keras to perform backpropogation algorithm.\n",
    "* As we are using classifier so metrix set to accuracy, if it is regression then it will be mean square error.\n",
    "* https://keras.io/api/models/sequential/"
   ]
  },
  {
   "cell_type": "code",
   "execution_count": 17,
   "id": "488dd009-5fa2-4029-8f45-94921adfc0f7",
   "metadata": {},
   "outputs": [],
   "source": [
    "#Compiling our model\n",
    "model.compile(loss = \"sparse_categorical_crossentropy\",\n",
    "              optimizer = \"sgd\",\n",
    "              metrics = [\"accuracy\"])"
   ]
  },
  {
   "cell_type": "code",
   "execution_count": 18,
   "id": "38667e72-88e2-43d5-913b-ca22a113fbb7",
   "metadata": {},
   "outputs": [
    {
     "name": "stdout",
     "output_type": "stream",
     "text": [
      "Epoch 1/30\n",
      "860/860 [==============================] - 13s 10ms/step - loss: 0.8643 - accuracy: 0.7073 - val_loss: 0.7586 - val_accuracy: 0.7280\n",
      "Epoch 2/30\n",
      "860/860 [==============================] - 9s 10ms/step - loss: 0.5385 - accuracy: 0.8049 - val_loss: 0.5025 - val_accuracy: 0.8078\n",
      "Epoch 3/30\n",
      "860/860 [==============================] - 9s 10ms/step - loss: 0.4797 - accuracy: 0.8266 - val_loss: 0.9959 - val_accuracy: 0.6944\n",
      "Epoch 4/30\n",
      "860/860 [==============================] - 9s 10ms/step - loss: 0.4404 - accuracy: 0.8431 - val_loss: 0.4096 - val_accuracy: 0.8584\n",
      "Epoch 5/30\n",
      "860/860 [==============================] - 9s 11ms/step - loss: 0.4148 - accuracy: 0.8515 - val_loss: 0.3967 - val_accuracy: 0.8624\n",
      "Epoch 6/30\n",
      "860/860 [==============================] - 9s 11ms/step - loss: 0.3900 - accuracy: 0.8612 - val_loss: 0.3656 - val_accuracy: 0.8756\n",
      "Epoch 7/30\n",
      "860/860 [==============================] - 9s 11ms/step - loss: 0.3721 - accuracy: 0.8667 - val_loss: 0.4010 - val_accuracy: 0.8550\n",
      "Epoch 8/30\n",
      "860/860 [==============================] - 9s 11ms/step - loss: 0.3571 - accuracy: 0.8721 - val_loss: 0.4798 - val_accuracy: 0.8200\n",
      "Epoch 9/30\n",
      "860/860 [==============================] - 9s 10ms/step - loss: 0.3438 - accuracy: 0.8768 - val_loss: 0.3679 - val_accuracy: 0.8654\n",
      "Epoch 10/30\n",
      "860/860 [==============================] - 9s 10ms/step - loss: 0.3319 - accuracy: 0.8797 - val_loss: 0.3556 - val_accuracy: 0.8698\n",
      "Epoch 11/30\n",
      "860/860 [==============================] - 9s 10ms/step - loss: 0.3199 - accuracy: 0.8822 - val_loss: 0.3338 - val_accuracy: 0.8810\n",
      "Epoch 12/30\n",
      "860/860 [==============================] - 6s 7ms/step - loss: 0.3090 - accuracy: 0.8875 - val_loss: 0.3246 - val_accuracy: 0.8842\n",
      "Epoch 13/30\n",
      "860/860 [==============================] - 6s 7ms/step - loss: 0.3017 - accuracy: 0.8909 - val_loss: 0.3175 - val_accuracy: 0.8888\n",
      "Epoch 14/30\n",
      "860/860 [==============================] - 5s 6ms/step - loss: 0.2932 - accuracy: 0.8927 - val_loss: 0.3872 - val_accuracy: 0.8558\n",
      "Epoch 15/30\n",
      "860/860 [==============================] - 5s 6ms/step - loss: 0.2848 - accuracy: 0.8961 - val_loss: 0.3798 - val_accuracy: 0.8614\n",
      "Epoch 16/30\n",
      "860/860 [==============================] - 5s 6ms/step - loss: 0.2787 - accuracy: 0.8991 - val_loss: 0.2920 - val_accuracy: 0.8908\n",
      "Epoch 17/30\n",
      "860/860 [==============================] - 5s 6ms/step - loss: 0.2711 - accuracy: 0.9009 - val_loss: 0.3855 - val_accuracy: 0.8628\n",
      "Epoch 18/30\n",
      "860/860 [==============================] - 5s 6ms/step - loss: 0.2652 - accuracy: 0.9036 - val_loss: 0.3439 - val_accuracy: 0.8776\n",
      "Epoch 19/30\n",
      "860/860 [==============================] - 5s 6ms/step - loss: 0.2595 - accuracy: 0.9061 - val_loss: 0.3121 - val_accuracy: 0.8854\n",
      "Epoch 20/30\n",
      "860/860 [==============================] - 5s 6ms/step - loss: 0.2537 - accuracy: 0.9078 - val_loss: 0.3177 - val_accuracy: 0.8848\n",
      "Epoch 21/30\n",
      "860/860 [==============================] - 5s 6ms/step - loss: 0.2475 - accuracy: 0.9104 - val_loss: 0.2848 - val_accuracy: 0.8952\n",
      "Epoch 22/30\n",
      "860/860 [==============================] - 6s 6ms/step - loss: 0.2427 - accuracy: 0.9111 - val_loss: 0.2758 - val_accuracy: 0.8996\n",
      "Epoch 23/30\n",
      "860/860 [==============================] - 5s 6ms/step - loss: 0.2368 - accuracy: 0.9130 - val_loss: 0.2712 - val_accuracy: 0.9032\n",
      "Epoch 24/30\n",
      "860/860 [==============================] - 5s 6ms/step - loss: 0.2322 - accuracy: 0.9159 - val_loss: 0.2889 - val_accuracy: 0.8944\n",
      "Epoch 25/30\n",
      "860/860 [==============================] - 5s 6ms/step - loss: 0.2274 - accuracy: 0.9174 - val_loss: 0.2755 - val_accuracy: 0.9032\n",
      "Epoch 26/30\n",
      "860/860 [==============================] - 5s 6ms/step - loss: 0.2238 - accuracy: 0.9184 - val_loss: 0.2768 - val_accuracy: 0.9056\n",
      "Epoch 27/30\n",
      "860/860 [==============================] - 5s 6ms/step - loss: 0.2195 - accuracy: 0.9206 - val_loss: 0.2624 - val_accuracy: 0.9048\n",
      "Epoch 28/30\n",
      "860/860 [==============================] - 5s 6ms/step - loss: 0.2146 - accuracy: 0.9217 - val_loss: 0.2950 - val_accuracy: 0.8930\n",
      "Epoch 29/30\n",
      "860/860 [==============================] - 5s 6ms/step - loss: 0.2097 - accuracy: 0.9238 - val_loss: 0.2747 - val_accuracy: 0.9016\n",
      "Epoch 30/30\n",
      "860/860 [==============================] - 5s 6ms/step - loss: 0.2064 - accuracy: 0.9251 - val_loss: 0.2680 - val_accuracy: 0.9054\n"
     ]
    }
   ],
   "source": [
    "model_history = model.fit(x_train, y_train, epochs = 30, batch_size = 64, validation_data = (x_valid, y_valid))"
   ]
  },
  {
   "cell_type": "code",
   "execution_count": 19,
   "id": "4478ddcf-927c-4a06-ab4f-f307c8534faf",
   "metadata": {},
   "outputs": [
    {
     "data": {
      "text/plain": [
       "{'verbose': 1, 'epochs': 30, 'steps': 860}"
      ]
     },
     "execution_count": 19,
     "metadata": {},
     "output_type": "execute_result"
    }
   ],
   "source": [
    "model_history.params"
   ]
  },
  {
   "cell_type": "code",
   "execution_count": 20,
   "id": "8bfe99c1-1106-4c78-9f2c-be2f6181b504",
   "metadata": {},
   "outputs": [
    {
     "data": {
      "text/plain": [
       "{'loss': [0.8643367290496826,\n",
       "  0.5385184288024902,\n",
       "  0.47965747117996216,\n",
       "  0.4404005706310272,\n",
       "  0.41476431488990784,\n",
       "  0.3900315463542938,\n",
       "  0.37206971645355225,\n",
       "  0.35710179805755615,\n",
       "  0.34380677342414856,\n",
       "  0.3319188952445984,\n",
       "  0.3199295699596405,\n",
       "  0.30899232625961304,\n",
       "  0.30171090364456177,\n",
       "  0.2932012677192688,\n",
       "  0.2848420739173889,\n",
       "  0.2787167727947235,\n",
       "  0.2710775136947632,\n",
       "  0.26516348123550415,\n",
       "  0.2594834268093109,\n",
       "  0.2536638379096985,\n",
       "  0.24754855036735535,\n",
       "  0.2426769882440567,\n",
       "  0.23675090074539185,\n",
       "  0.23216651380062103,\n",
       "  0.2273545265197754,\n",
       "  0.22380007803440094,\n",
       "  0.21954770386219025,\n",
       "  0.21459181606769562,\n",
       "  0.20966820418834686,\n",
       "  0.20642778277397156],\n",
       " 'accuracy': [0.7073272466659546,\n",
       "  0.8048545718193054,\n",
       "  0.8265636563301086,\n",
       "  0.8430545330047607,\n",
       "  0.8515272736549377,\n",
       "  0.8611817955970764,\n",
       "  0.8667091131210327,\n",
       "  0.8720727562904358,\n",
       "  0.876800000667572,\n",
       "  0.8796727061271667,\n",
       "  0.8822363615036011,\n",
       "  0.8874909281730652,\n",
       "  0.8909454345703125,\n",
       "  0.8927454352378845,\n",
       "  0.8960545659065247,\n",
       "  0.8990727066993713,\n",
       "  0.9008545279502869,\n",
       "  0.9035999774932861,\n",
       "  0.906072735786438,\n",
       "  0.907800018787384,\n",
       "  0.9103999733924866,\n",
       "  0.9111272692680359,\n",
       "  0.9130363464355469,\n",
       "  0.9158909320831299,\n",
       "  0.9173636436462402,\n",
       "  0.9184181690216064,\n",
       "  0.9205999970436096,\n",
       "  0.9216545224189758,\n",
       "  0.923799991607666,\n",
       "  0.9251090884208679],\n",
       " 'val_loss': [0.7585613131523132,\n",
       "  0.5024930834770203,\n",
       "  0.9959492087364197,\n",
       "  0.409602552652359,\n",
       "  0.3966825604438782,\n",
       "  0.3656003177165985,\n",
       "  0.4010128974914551,\n",
       "  0.47979629039764404,\n",
       "  0.36793485283851624,\n",
       "  0.3555859327316284,\n",
       "  0.33379730582237244,\n",
       "  0.32456016540527344,\n",
       "  0.31747597455978394,\n",
       "  0.3871726095676422,\n",
       "  0.3798200786113739,\n",
       "  0.2919793426990509,\n",
       "  0.38546839356422424,\n",
       "  0.3439035415649414,\n",
       "  0.31208375096321106,\n",
       "  0.31773999333381653,\n",
       "  0.28475484251976013,\n",
       "  0.2757738530635834,\n",
       "  0.2711750268936157,\n",
       "  0.28894519805908203,\n",
       "  0.2755344808101654,\n",
       "  0.27678194642066956,\n",
       "  0.26243677735328674,\n",
       "  0.2950398921966553,\n",
       "  0.274669349193573,\n",
       "  0.2679692804813385],\n",
       " 'val_accuracy': [0.7279999852180481,\n",
       "  0.8077999949455261,\n",
       "  0.6944000124931335,\n",
       "  0.8583999872207642,\n",
       "  0.8623999953269958,\n",
       "  0.8755999803543091,\n",
       "  0.8550000190734863,\n",
       "  0.8199999928474426,\n",
       "  0.8654000163078308,\n",
       "  0.8697999715805054,\n",
       "  0.8809999823570251,\n",
       "  0.8841999769210815,\n",
       "  0.8888000249862671,\n",
       "  0.8557999730110168,\n",
       "  0.8614000082015991,\n",
       "  0.8907999992370605,\n",
       "  0.8628000020980835,\n",
       "  0.8776000142097473,\n",
       "  0.8853999972343445,\n",
       "  0.8848000168800354,\n",
       "  0.8952000141143799,\n",
       "  0.8996000289916992,\n",
       "  0.9031999707221985,\n",
       "  0.8944000005722046,\n",
       "  0.9031999707221985,\n",
       "  0.9056000113487244,\n",
       "  0.9047999978065491,\n",
       "  0.8930000066757202,\n",
       "  0.9016000032424927,\n",
       "  0.9053999781608582]}"
      ]
     },
     "execution_count": 20,
     "metadata": {},
     "output_type": "execute_result"
    }
   ],
   "source": [
    "model_history.history"
   ]
  },
  {
   "cell_type": "markdown",
   "id": "91d9c7ed-25fe-45d1-ba93-6b68c1038b8d",
   "metadata": {},
   "source": [
    "** There is one more parameter comes with fit class_weights. it is used for consider if our 50000 images dataset if 40000 are T-shirt then we will provide it higher weight and other ones lower weight. But in out dataset the distribution is uniform so we are not going to use this parameter."
   ]
  },
  {
   "cell_type": "code",
   "execution_count": 21,
   "id": "f6ebd861-a471-4427-b12b-7058d082f9d7",
   "metadata": {},
   "outputs": [
    {
     "data": {
      "image/png": "[encoded data removed]",
      "text/plain": [
       "<Figure size 640x480 with 1 Axes>"
      ]
     },
     "metadata": {},
     "output_type": "display_data"
    },
    {
     "data": {
      "image/png": "[encoded data removed]",
      "text/plain": [
       "<Figure size 800x500 with 1 Axes>"
      ]
     },
     "metadata": {},
     "output_type": "display_data"
    }
   ],
   "source": [
    "import pandas as pd\n",
    "\n",
    "pd.DataFrame(model_history.history).plot(figsize = (8, 5))\n",
    "plt.grid(True)\n",
    "plt.gca().set_ylim(0, 1)\n",
    "plt.show()"
   ]
  },
  {
   "cell_type": "markdown",
   "id": "d90ad5d7-f4ec-4147-9213-bf643295328a",
   "metadata": {},
   "source": [
    "* The model is not converged yet as the validation accuracy still going up and validation loss is still going low.\n",
    "* So for our next try we should run it for more epox.\n",
    "* we can directly run for further next epochs it will start where it is stopped."
   ]
  },
  {
   "cell_type": "code",
   "execution_count": 23,
   "id": "131872f5-e7b7-40e2-8fae-7075722446b0",
   "metadata": {},
   "outputs": [
    {
     "name": "stdout",
     "output_type": "stream",
     "text": [
      "313/313 [==============================] - 2s 7ms/step - loss: 0.2774 - accuracy: 0.9010\n"
     ]
    }
   ],
   "source": [
    "ev = model.evaluate(x_test, y_test)"
   ]
  },
  {
   "cell_type": "code",
   "execution_count": 24,
   "id": "85ff60f4-cb04-49e1-bd4d-20205f9eb597",
   "metadata": {},
   "outputs": [
    {
     "data": {
      "text/plain": [
       "[0.2773568630218506, 0.9010000228881836]"
      ]
     },
     "execution_count": 24,
     "metadata": {},
     "output_type": "execute_result"
    }
   ],
   "source": [
    "ev"
   ]
  },
  {
   "cell_type": "code",
   "execution_count": 25,
   "id": "a8d7fcaa-28af-4baf-8f7a-8ef483a82b36",
   "metadata": {},
   "outputs": [
    {
     "name": "stdout",
     "output_type": "stream",
     "text": [
      "1719/1719 [==============================] - 10s 6ms/step - loss: 0.2008 - accuracy: 0.9262\n"
     ]
    },
    {
     "data": {
      "text/plain": [
       "[0.20083682239055634, 0.9262181520462036]"
      ]
     },
     "execution_count": 25,
     "metadata": {},
     "output_type": "execute_result"
    }
   ],
   "source": [
    "model.evaluate(x_train, y_train)"
   ]
  },
  {
   "cell_type": "code",
   "execution_count": 26,
   "id": "18b8c77d-f926-439f-958d-c8331567a50d",
   "metadata": {},
   "outputs": [],
   "source": [
    "x_new = x_test[: 3]"
   ]
  },
  {
   "cell_type": "code",
   "execution_count": 31,
   "id": "72fe44d2-347b-42a9-9a1b-04315a766316",
   "metadata": {},
   "outputs": [
    {
     "name": "stdout",
     "output_type": "stream",
     "text": [
      "1/1 [==============================] - 0s 37ms/step\n"
     ]
    },
    {
     "data": {
      "text/plain": [
       "array([9, 2, 1], dtype=int64)"
      ]
     },
     "execution_count": 31,
     "metadata": {},
     "output_type": "execute_result"
    }
   ],
   "source": [
    "# Get the predictions (probabilities) for the new data\n",
    "y_pred = model.predict(x_new)\n",
    "\n",
    "# Convert the probabilities to class labels by selecting the index of the max probability\n",
    "y_pred_classes = np.argmax(y_pred, axis=1)\n",
    "\n",
    "# Print the predicted class labels\n",
    "y_pred_classes"
   ]
  },
  {
   "cell_type": "markdown",
   "id": "585d1386-bbcf-4002-9248-8ae0c08cc71e",
   "metadata": {},
   "source": [
    "In above output considered 3 records as per x_new variable and each row contains 10 values corresponds to each class like t_shirt, trouser, etc. and the values present inside it represents the probabilities."
   ]
  },
  {
   "cell_type": "code",
   "execution_count": 32,
   "id": "41cdc8af-c812-47c5-ac2d-bc31efd42596",
   "metadata": {},
   "outputs": [
    {
     "data": {
      "text/plain": [
       "array([9, 2, 1], dtype=uint8)"
      ]
     },
     "execution_count": 32,
     "metadata": {},
     "output_type": "execute_result"
    }
   ],
   "source": [
    "y_test[: 3]"
   ]
  },
  {
   "cell_type": "code",
   "execution_count": 33,
   "id": "90cdb037-d4a4-4ca7-84ef-2aeccc02ed23",
   "metadata": {},
   "outputs": [
    {
     "name": "stdout",
     "output_type": "stream",
     "text": [
      "AxesImage(shape=(28, 28))\n"
     ]
    }
   ],
   "source": [
    "print(plt.imshow(x_test[0].reshape((28, 28))))"
   ]
  },
  {
   "cell_type": "markdown",
   "id": "87dacc8b-cee3-4367-bc01-c594af34aaf4",
   "metadata": {},
   "source": [
    "## Pooling vs Non Pooling"
   ]
  },
  {
   "cell_type": "code",
   "execution_count": 37,
   "id": "33b4b5a2-2ee9-4495-b85a-1131bfa45a38",
   "metadata": {},
   "outputs": [],
   "source": [
    "#with pooling\n",
    "model_a = keras.models.Sequential()\n",
    "model_a.add(keras.layers.Conv2D(filters = 32, kernel_size = (3, 3), strides = 1, padding = 'valid', activation = 'relu', input_shape = (28, 28, 1)))\n",
    "model_a.add(keras.layers.MaxPooling2D((2, 2)))\n",
    "model_a.add(keras.layers.Flatten())\n",
    "model_a.add(keras.layers.Dense(300, activation = 'relu'))\n",
    "model_a.add(keras.layers.Dense(100, activation = 'relu'))\n",
    "model_a.add(keras.layers.Dense(10, activation = 'softmax'))\n",
    "\n",
    "#without pooling\n",
    "model_b = keras.models.Sequential()\n",
    "model_b.add(keras.layers.Conv2D(filters = 32, kernel_size = (3, 3), strides = 1, padding = 'valid', activation = 'relu', input_shape = (28, 28, 1)))\n",
    "model_b.add(keras.layers.Flatten())\n",
    "model_b.add(keras.layers.Dense(300, activation = 'relu'))\n",
    "model_b.add(keras.layers.Dense(100, activation = 'relu'))\n",
    "model_b.add(keras.layers.Dense(10, activation = 'softmax'))"
   ]
  },
  {
   "cell_type": "code",
   "execution_count": 38,
   "id": "460b151f-920f-4b24-86a1-818625e49978",
   "metadata": {},
   "outputs": [
    {
     "name": "stdout",
     "output_type": "stream",
     "text": [
      "Model: \"sequential_3\"\n",
      "_________________________________________________________________\n",
      " Layer (type)                Output Shape              Param #   \n",
      "=================================================================\n",
      " conv2d_3 (Conv2D)           (None, 26, 26, 32)        320       \n",
      "                                                                 \n",
      " max_pooling2d_3 (MaxPooling  (None, 13, 13, 32)       0         \n",
      " 2D)                                                             \n",
      "                                                                 \n",
      " flatten_3 (Flatten)         (None, 5408)              0         \n",
      "                                                                 \n",
      " dense_9 (Dense)             (None, 300)               1622700   \n",
      "                                                                 \n",
      " dense_10 (Dense)            (None, 100)               30100     \n",
      "                                                                 \n",
      " dense_11 (Dense)            (None, 10)                1010      \n",
      "                                                                 \n",
      "=================================================================\n",
      "Total params: 1,654,130\n",
      "Trainable params: 1,654,130\n",
      "Non-trainable params: 0\n",
      "_________________________________________________________________\n"
     ]
    }
   ],
   "source": [
    "model_a.summary()"
   ]
  },
  {
   "cell_type": "code",
   "execution_count": 39,
   "id": "c6dca579-20e7-4bcb-9031-4eb03bd7452f",
   "metadata": {},
   "outputs": [
    {
     "name": "stdout",
     "output_type": "stream",
     "text": [
      "Model: \"sequential_4\"\n",
      "_________________________________________________________________\n",
      " Layer (type)                Output Shape              Param #   \n",
      "=================================================================\n",
      " conv2d_4 (Conv2D)           (None, 26, 26, 32)        320       \n",
      "                                                                 \n",
      " flatten_4 (Flatten)         (None, 21632)             0         \n",
      "                                                                 \n",
      " dense_12 (Dense)            (None, 300)               6489900   \n",
      "                                                                 \n",
      " dense_13 (Dense)            (None, 100)               30100     \n",
      "                                                                 \n",
      " dense_14 (Dense)            (None, 10)                1010      \n",
      "                                                                 \n",
      "=================================================================\n",
      "Total params: 6,521,330\n",
      "Trainable params: 6,521,330\n",
      "Non-trainable params: 0\n",
      "_________________________________________________________________\n"
     ]
    }
   ],
   "source": [
    "model_b.summary()"
   ]
  },
  {
   "cell_type": "code",
   "execution_count": 40,
   "id": "8423df1b-b03d-4160-8ff2-cc72792cd9c8",
   "metadata": {},
   "outputs": [],
   "source": [
    "model_a.compile(loss = \"sparse_categorical_crossentropy\",\n",
    "               optimizer = \"sgd\",\n",
    "               metrics = [\"accuracy\"])\n",
    "model_b.compile(loss = \"sparse_categorical_crossentropy\",\n",
    "               optimizer = \"sgd\",\n",
    "               metrics = [\"accuracy\"])"
   ]
  },
  {
   "cell_type": "code",
   "execution_count": 42,
   "id": "e8b6e7ec-b7f3-4461-85ac-de876669801b",
   "metadata": {},
   "outputs": [
    {
     "name": "stdout",
     "output_type": "stream",
     "text": [
      "Epoch 1/3\n",
      "860/860 [==============================] - 10s 11ms/step - loss: 0.8650 - accuracy: 0.7057 - val_loss: 0.7183 - val_accuracy: 0.7404\n",
      "Epoch 2/3\n",
      "860/860 [==============================] - 9s 10ms/step - loss: 0.5330 - accuracy: 0.8079 - val_loss: 0.4955 - val_accuracy: 0.8128\n",
      "Epoch 3/3\n",
      "860/860 [==============================] - 9s 10ms/step - loss: 0.4754 - accuracy: 0.8288 - val_loss: 1.0161 - val_accuracy: 0.6942\n"
     ]
    }
   ],
   "source": [
    "model_history_a = model_a.fit(x_train, y_train, epochs = 3, batch_size = 64,\n",
    "                           validation_data = (x_valid, y_valid))"
   ]
  },
  {
   "cell_type": "code",
   "execution_count": 43,
   "id": "a7a6a1d5-26bc-4b67-845c-42e6a96689b0",
   "metadata": {},
   "outputs": [
    {
     "name": "stdout",
     "output_type": "stream",
     "text": [
      "Epoch 1/3\n",
      "860/860 [==============================] - 9s 10ms/step - loss: 0.7246 - accuracy: 0.7517 - val_loss: 0.7568 - val_accuracy: 0.7210\n",
      "Epoch 2/3\n",
      "860/860 [==============================] - 9s 10ms/step - loss: 0.4892 - accuracy: 0.8236 - val_loss: 0.4568 - val_accuracy: 0.8276\n",
      "Epoch 3/3\n",
      "860/860 [==============================] - 9s 11ms/step - loss: 0.4375 - accuracy: 0.8422 - val_loss: 0.9469 - val_accuracy: 0.7004\n"
     ]
    }
   ],
   "source": [
    "model_history_b = model_b.fit(x_train, y_train, epochs = 3, batch_size = 64,\n",
    "                           validation_data = (x_valid, y_valid))"
   ]
  },
  {
   "cell_type": "code",
   "execution_count": null,
   "id": "bed2a323-e193-442c-8bea-548d9748c637",
   "metadata": {},
   "outputs": [],
   "source": []
  }
 ],
 "metadata": {
  "kernelspec": {
   "display_name": "Python 3.10 (tf_gpu_env)",
   "language": "python",
   "name": "tf_gpu_env"
  },
  "language_info": {
   "codemirror_mode": {
    "name": "ipython",
    "version": 3
   },
   "file_extension": ".py",
   "mimetype": "text/x-python",
   "name": "python",
   "nbconvert_exporter": "python",
   "pygments_lexer": "ipython3",
   "version": "3.10.14"
  }
 },
 "nbformat": 4,
 "nbformat_minor": 5
}
