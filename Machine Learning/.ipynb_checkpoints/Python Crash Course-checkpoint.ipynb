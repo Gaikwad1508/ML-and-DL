{
 "cells": [
  {
   "cell_type": "code",
   "execution_count": 31,
   "id": "9e6c01dd-0368-4bd1-8b8a-4392f1ef96eb",
   "metadata": {},
   "outputs": [
    {
     "data": {
      "text/plain": [
       "4"
      ]
     },
     "execution_count": 31,
     "metadata": {},
     "output_type": "execute_result"
    }
   ],
   "source": [
    "2+2"
   ]
  },
  {
   "cell_type": "markdown",
   "id": "be35e5fe-3541-4a93-91dd-edfdbd40f8f9",
   "metadata": {},
   "source": [
    "# Heading 1\n",
    "## Heaeding 2\n",
    "#### Heading 4\n",
    "\n",
    "* bullet 1\n",
    "* bullet 2\n",
    "* bullet 3\n",
    "\n",
    "This is an md(markdown cell): in this format # is used for heading and * is used for bullet points"
   ]
  },
  {
   "cell_type": "code",
   "execution_count": 32,
   "id": "9c54a8d8-01e2-4a7b-bf6a-80d7054406bf",
   "metadata": {},
   "outputs": [
    {
     "data": {
      "text/plain": [
       "3"
      ]
     },
     "execution_count": 32,
     "metadata": {},
     "output_type": "execute_result"
    }
   ],
   "source": [
    "5-2"
   ]
  },
  {
   "cell_type": "code",
   "execution_count": 33,
   "id": "1206223c-e98d-4906-9b7e-d45ca0671699",
   "metadata": {},
   "outputs": [
    {
     "data": {
      "text/plain": [
       "12"
      ]
     },
     "execution_count": 33,
     "metadata": {},
     "output_type": "execute_result"
    }
   ],
   "source": [
    "3*4"
   ]
  },
  {
   "cell_type": "code",
   "execution_count": 34,
   "id": "7418a9b0-350c-4191-a044-e98b6c2368d3",
   "metadata": {},
   "outputs": [
    {
     "data": {
      "text/plain": [
       "2.5"
      ]
     },
     "execution_count": 34,
     "metadata": {},
     "output_type": "execute_result"
    }
   ],
   "source": [
    "5/2"
   ]
  },
  {
   "cell_type": "code",
   "execution_count": 35,
   "id": "ad97e02b-bbab-4600-a423-afb7e906d38a",
   "metadata": {},
   "outputs": [
    {
     "data": {
      "text/plain": [
       "125"
      ]
     },
     "execution_count": 35,
     "metadata": {},
     "output_type": "execute_result"
    }
   ],
   "source": [
    "5**3"
   ]
  },
  {
   "cell_type": "code",
   "execution_count": 36,
   "id": "016fc734-e39b-4072-b37f-e7337bca7896",
   "metadata": {},
   "outputs": [
    {
     "data": {
      "text/plain": [
       "1"
      ]
     },
     "execution_count": 36,
     "metadata": {},
     "output_type": "execute_result"
    }
   ],
   "source": [
    "5%2"
   ]
  },
  {
   "cell_type": "code",
   "execution_count": 37,
   "id": "cada3c82-579b-4056-9564-89af4b744d1c",
   "metadata": {},
   "outputs": [
    {
     "data": {
      "text/plain": [
       "14"
      ]
     },
     "execution_count": 37,
     "metadata": {},
     "output_type": "execute_result"
    }
   ],
   "source": [
    "5*2+4"
   ]
  },
  {
   "cell_type": "code",
   "execution_count": 38,
   "id": "2c754600-1b8b-40e5-b1b5-6db9fd04376e",
   "metadata": {},
   "outputs": [
    {
     "data": {
      "text/plain": [
       "30"
      ]
     },
     "execution_count": 38,
     "metadata": {},
     "output_type": "execute_result"
    }
   ],
   "source": [
    "5*(2+4)"
   ]
  },
  {
   "cell_type": "code",
   "execution_count": 39,
   "id": "4fa29d3d-f043-42c2-a8c0-61a772c65cb3",
   "metadata": {},
   "outputs": [],
   "source": [
    "var1=2"
   ]
  },
  {
   "cell_type": "code",
   "execution_count": 40,
   "id": "302ce96a-99ed-40c1-b9b3-245ed4f74ebd",
   "metadata": {},
   "outputs": [
    {
     "data": {
      "text/plain": [
       "2"
      ]
     },
     "execution_count": 40,
     "metadata": {},
     "output_type": "execute_result"
    }
   ],
   "source": [
    "var1"
   ]
  },
  {
   "cell_type": "code",
   "execution_count": 41,
   "id": "9bfbb85a-0ad6-4f93-8e59-028a277e3949",
   "metadata": {},
   "outputs": [],
   "source": [
    "var1=4*2+1"
   ]
  },
  {
   "cell_type": "code",
   "execution_count": 42,
   "id": "3bd48776-3eb2-4297-b620-026bc319ed02",
   "metadata": {},
   "outputs": [
    {
     "data": {
      "text/plain": [
       "9"
      ]
     },
     "execution_count": 42,
     "metadata": {},
     "output_type": "execute_result"
    }
   ],
   "source": [
    "var1"
   ]
  },
  {
   "cell_type": "code",
   "execution_count": 43,
   "id": "08b48eb4-e511-43a2-826b-ae1f82cd2db2",
   "metadata": {},
   "outputs": [
    {
     "data": {
      "text/plain": [
       "True"
      ]
     },
     "execution_count": 43,
     "metadata": {},
     "output_type": "execute_result"
    }
   ],
   "source": [
    "5>1"
   ]
  },
  {
   "cell_type": "code",
   "execution_count": 44,
   "id": "57c6b3d2-d9cb-4e26-9b5b-d3c2dd0f6e0c",
   "metadata": {},
   "outputs": [
    {
     "data": {
      "text/plain": [
       "False"
      ]
     },
     "execution_count": 44,
     "metadata": {},
     "output_type": "execute_result"
    }
   ],
   "source": [
    "3<=2"
   ]
  },
  {
   "cell_type": "markdown",
   "id": "cc8bfb7a-866e-4d58-8e8b-57e00ef116e1",
   "metadata": {},
   "source": [
    "# Strings"
   ]
  },
  {
   "cell_type": "code",
   "execution_count": 45,
   "id": "386468f6-d9bb-4a28-8e81-8381ed817396",
   "metadata": {},
   "outputs": [
    {
     "ename": "SyntaxError",
     "evalue": "invalid syntax (1346526340.py, line 1)",
     "output_type": "error",
     "traceback": [
      "\u001b[1;36m  Cell \u001b[1;32mIn[45], line 1\u001b[1;36m\u001b[0m\n\u001b[1;33m    st python tutorial\u001b[0m\n\u001b[1;37m       ^\u001b[0m\n\u001b[1;31mSyntaxError\u001b[0m\u001b[1;31m:\u001b[0m invalid syntax\n"
     ]
    }
   ],
   "source": [
    "st python tutorial"
   ]
  },
  {
   "cell_type": "code",
   "execution_count": 46,
   "id": "223988cf-95c0-4864-bbe5-5310654071aa",
   "metadata": {},
   "outputs": [
    {
     "data": {
      "text/plain": [
       "'st python tutorial'"
      ]
     },
     "execution_count": 46,
     "metadata": {},
     "output_type": "execute_result"
    }
   ],
   "source": [
    "\"st python tutorial\""
   ]
  },
  {
   "cell_type": "code",
   "execution_count": 47,
   "id": "ecd3e0b9-7386-45db-93a8-274e4fdae883",
   "metadata": {},
   "outputs": [],
   "source": [
    "str1=\"st python tutorial\""
   ]
  },
  {
   "cell_type": "code",
   "execution_count": 48,
   "id": "669eb71d-0101-4973-8c4c-71371cdc5277",
   "metadata": {},
   "outputs": [
    {
     "data": {
      "text/plain": [
       "'st python tutorial'"
      ]
     },
     "execution_count": 48,
     "metadata": {},
     "output_type": "execute_result"
    }
   ],
   "source": [
    "str1"
   ]
  },
  {
   "cell_type": "code",
   "execution_count": 49,
   "id": "0cef8586-8f9c-4839-9e75-5336aad61040",
   "metadata": {},
   "outputs": [
    {
     "name": "stdout",
     "output_type": "stream",
     "text": [
      "st python tutorial\n"
     ]
    }
   ],
   "source": [
    "print(str1)"
   ]
  },
  {
   "cell_type": "code",
   "execution_count": 50,
   "id": "893041de-1067-4e25-8dcd-78ab2e26f95c",
   "metadata": {},
   "outputs": [],
   "source": [
    "x=\"R\""
   ]
  },
  {
   "cell_type": "code",
   "execution_count": 51,
   "id": "ba6f2738-d3a1-4f3c-ae11-078f5f580954",
   "metadata": {},
   "outputs": [
    {
     "name": "stdout",
     "output_type": "stream",
     "text": [
      "st R tutorial\n"
     ]
    }
   ],
   "source": [
    "print(\"st {} tutorial\".format(x))"
   ]
  },
  {
   "cell_type": "code",
   "execution_count": 52,
   "id": "8103ce02-6f82-48d8-bae7-4f425694f418",
   "metadata": {},
   "outputs": [],
   "source": [
    "x, var1=\"SQL\", 17"
   ]
  },
  {
   "cell_type": "code",
   "execution_count": 53,
   "id": "abd1276c-60c7-43e2-b806-288b0d914be3",
   "metadata": {},
   "outputs": [
    {
     "name": "stdout",
     "output_type": "stream",
     "text": [
      "st SQL tutorial 17\n"
     ]
    }
   ],
   "source": [
    "print(\"st {} tutorial {}\".format(x, var1))"
   ]
  },
  {
   "cell_type": "code",
   "execution_count": 54,
   "id": "6a93a046-d2a8-4b92-8e17-a18da0c43e0a",
   "metadata": {},
   "outputs": [
    {
     "data": {
      "text/plain": [
       "18"
      ]
     },
     "execution_count": 54,
     "metadata": {},
     "output_type": "execute_result"
    }
   ],
   "source": [
    "len(str1)"
   ]
  },
  {
   "cell_type": "code",
   "execution_count": 55,
   "id": "a15771f3-ba4f-4aa1-b555-0816ac39577f",
   "metadata": {},
   "outputs": [
    {
     "data": {
      "text/plain": [
       "'st python tutorial'"
      ]
     },
     "execution_count": 55,
     "metadata": {},
     "output_type": "execute_result"
    }
   ],
   "source": [
    "str1"
   ]
  },
  {
   "cell_type": "code",
   "execution_count": 56,
   "id": "c9773d5b-09bc-4867-926f-eaf7fb0efe58",
   "metadata": {},
   "outputs": [
    {
     "data": {
      "text/plain": [
       "'st SQL tutorial'"
      ]
     },
     "execution_count": 56,
     "metadata": {},
     "output_type": "execute_result"
    }
   ],
   "source": [
    "str1.replace(\"python\", \"SQL\")"
   ]
  },
  {
   "cell_type": "code",
   "execution_count": 57,
   "id": "294329a2-72ae-4851-8780-794b33a5a7c3",
   "metadata": {},
   "outputs": [
    {
     "name": "stdout",
     "output_type": "stream",
     "text": [
      "st python tutorial\n"
     ]
    }
   ],
   "source": [
    "print(str1)"
   ]
  },
  {
   "cell_type": "code",
   "execution_count": 58,
   "id": "efc6d8f9-94f2-48d0-8bc0-7f4168233ddb",
   "metadata": {},
   "outputs": [],
   "source": [
    "x=str1.replace(\"python\", \"SQL\")"
   ]
  },
  {
   "cell_type": "code",
   "execution_count": 59,
   "id": "c3b2632f-2407-4382-81e3-d4b818489a91",
   "metadata": {},
   "outputs": [
    {
     "data": {
      "text/plain": [
       "'st SQL tutorial'"
      ]
     },
     "execution_count": 59,
     "metadata": {},
     "output_type": "execute_result"
    }
   ],
   "source": [
    "x"
   ]
  },
  {
   "cell_type": "markdown",
   "id": "b45d750e-7361-412f-92d5-cf0dd365adf6",
   "metadata": {},
   "source": [
    "# Indexing\n",
    "* Indexing in python starts from 0\n",
    "  ## slicing a string\n",
    "  * [s : e : step]\n",
    "  * s is for starting index for the string from which we want to get the sliced string.\n",
    "  * e is the last index of sliced string which we want , here mentioned index is excluded.\n",
    "  * step stand for after how many steps we want next index or character at that index."
   ]
  },
  {
   "cell_type": "code",
   "execution_count": 60,
   "id": "7e912d10-5b0e-4326-ac70-e99f99403c8d",
   "metadata": {},
   "outputs": [
    {
     "data": {
      "text/plain": [
       "'st SQL tutorial'"
      ]
     },
     "execution_count": 60,
     "metadata": {},
     "output_type": "execute_result"
    }
   ],
   "source": [
    "x"
   ]
  },
  {
   "cell_type": "code",
   "execution_count": 61,
   "id": "bd726f4f-14d9-4f77-a186-c70ca8dcf580",
   "metadata": {},
   "outputs": [
    {
     "data": {
      "text/plain": [
       "'t'"
      ]
     },
     "execution_count": 61,
     "metadata": {},
     "output_type": "execute_result"
    }
   ],
   "source": [
    "x[1]"
   ]
  },
  {
   "cell_type": "code",
   "execution_count": 62,
   "id": "c93ad250-5253-44f0-9d69-4990e6d62b1f",
   "metadata": {},
   "outputs": [
    {
     "data": {
      "text/plain": [
       "' SQ'"
      ]
     },
     "execution_count": 62,
     "metadata": {},
     "output_type": "execute_result"
    }
   ],
   "source": [
    "x[2:5]    #here index 5 is excluded in output"
   ]
  },
  {
   "cell_type": "code",
   "execution_count": 63,
   "id": "2a838e5d-02ee-448f-891e-6b9198b6f434",
   "metadata": {},
   "outputs": [
    {
     "data": {
      "text/plain": [
       "'QL'"
      ]
     },
     "execution_count": 63,
     "metadata": {},
     "output_type": "execute_result"
    }
   ],
   "source": [
    "x[4:6]"
   ]
  },
  {
   "cell_type": "code",
   "execution_count": 64,
   "id": "3f7d1b1b-9e16-4c4f-8997-5a4aaf0035ce",
   "metadata": {},
   "outputs": [
    {
     "data": {
      "text/plain": [
       "'l'"
      ]
     },
     "execution_count": 64,
     "metadata": {},
     "output_type": "execute_result"
    }
   ],
   "source": [
    "x[-1]"
   ]
  },
  {
   "cell_type": "code",
   "execution_count": 65,
   "id": "ab2ec39e-5b37-4916-8556-4d70f0075145",
   "metadata": {},
   "outputs": [
    {
     "data": {
      "text/plain": [
       "'st SQ'"
      ]
     },
     "execution_count": 65,
     "metadata": {},
     "output_type": "execute_result"
    }
   ],
   "source": [
    "x[:5]"
   ]
  },
  {
   "cell_type": "code",
   "execution_count": 66,
   "id": "4b6a604d-6056-47b6-85e6-7194011040bd",
   "metadata": {},
   "outputs": [
    {
     "data": {
      "text/plain": [
       "'L tutorial'"
      ]
     },
     "execution_count": 66,
     "metadata": {},
     "output_type": "execute_result"
    }
   ],
   "source": [
    "x[5:]"
   ]
  },
  {
   "cell_type": "code",
   "execution_count": 67,
   "id": "c9de59fb-e47a-49a6-94a4-b4ee2f51aa21",
   "metadata": {},
   "outputs": [
    {
     "data": {
      "text/plain": [
       "' Q u'"
      ]
     },
     "execution_count": 67,
     "metadata": {},
     "output_type": "execute_result"
    }
   ],
   "source": [
    "x[2:10:2]"
   ]
  },
  {
   "cell_type": "code",
   "execution_count": 68,
   "id": "1c9ee8c2-78e0-48e3-9bff-1ad8a8ee04e9",
   "metadata": {},
   "outputs": [
    {
     "data": {
      "text/plain": [
       "'st SQL tutorial'"
      ]
     },
     "execution_count": 68,
     "metadata": {},
     "output_type": "execute_result"
    }
   ],
   "source": [
    "x"
   ]
  },
  {
   "cell_type": "code",
   "execution_count": 69,
   "id": "74b176ba-e070-412f-a209-1f93f66ed4e2",
   "metadata": {},
   "outputs": [
    {
     "data": {
      "text/plain": [
       "str"
      ]
     },
     "execution_count": 69,
     "metadata": {},
     "output_type": "execute_result"
    }
   ],
   "source": [
    "type(x)"
   ]
  },
  {
   "cell_type": "code",
   "execution_count": 70,
   "id": "671c9395-8762-4db6-a797-f17a3f931d88",
   "metadata": {},
   "outputs": [
    {
     "data": {
      "text/plain": [
       "int"
      ]
     },
     "execution_count": 70,
     "metadata": {},
     "output_type": "execute_result"
    }
   ],
   "source": [
    "type(var1)"
   ]
  },
  {
   "cell_type": "code",
   "execution_count": 71,
   "id": "f1d4000c-847c-4686-af0d-26cc5d20400b",
   "metadata": {},
   "outputs": [
    {
     "data": {
      "text/plain": [
       "17"
      ]
     },
     "execution_count": 71,
     "metadata": {},
     "output_type": "execute_result"
    }
   ],
   "source": [
    "var1"
   ]
  },
  {
   "cell_type": "code",
   "execution_count": 72,
   "id": "a9a80251-a69a-433c-99d5-cc1b8fd0808b",
   "metadata": {},
   "outputs": [],
   "source": [
    "var2=5/2"
   ]
  },
  {
   "cell_type": "code",
   "execution_count": 73,
   "id": "015ac478-792b-4405-a278-5125a75d5593",
   "metadata": {},
   "outputs": [
    {
     "data": {
      "text/plain": [
       "2.5"
      ]
     },
     "execution_count": 73,
     "metadata": {},
     "output_type": "execute_result"
    }
   ],
   "source": [
    "var2"
   ]
  },
  {
   "cell_type": "code",
   "execution_count": 74,
   "id": "f4dd4fb6-ceb2-4551-8478-e318eecd1fb3",
   "metadata": {},
   "outputs": [
    {
     "data": {
      "text/plain": [
       "float"
      ]
     },
     "execution_count": 74,
     "metadata": {},
     "output_type": "execute_result"
    }
   ],
   "source": [
    "type(var2)"
   ]
  },
  {
   "cell_type": "code",
   "execution_count": 75,
   "id": "3582c082-1f08-46be-8f6d-208194fb2960",
   "metadata": {},
   "outputs": [
    {
     "name": "stdout",
     "output_type": "stream",
     "text": [
      "12\n"
     ]
    }
   ],
   "source": [
    "text=\"Hello World!\"\n",
    "length=len(text)\n",
    "print(length)"
   ]
  },
  {
   "cell_type": "markdown",
   "id": "e32ccf05-8424-47c8-a0de-7aa4762eba9c",
   "metadata": {},
   "source": [
    "## Lists"
   ]
  },
  {
   "cell_type": "code",
   "execution_count": 76,
   "id": "b7d79e25-6ac4-42fb-90cb-6e820594eb82",
   "metadata": {},
   "outputs": [],
   "source": [
    "l1=[1, 2, 3, 4, 5]"
   ]
  },
  {
   "cell_type": "code",
   "execution_count": 77,
   "id": "3293e2bf-a6e0-40f0-95c7-1f114473c3ed",
   "metadata": {},
   "outputs": [
    {
     "data": {
      "text/plain": [
       "list"
      ]
     },
     "execution_count": 77,
     "metadata": {},
     "output_type": "execute_result"
    }
   ],
   "source": [
    "type(l1)"
   ]
  },
  {
   "cell_type": "code",
   "execution_count": 78,
   "id": "58909a08-4dc1-4624-bf07-50a2d34bc610",
   "metadata": {},
   "outputs": [
    {
     "name": "stdout",
     "output_type": "stream",
     "text": [
      "[1, 2, 3, 4, 5]\n"
     ]
    }
   ],
   "source": [
    "print(l1)"
   ]
  },
  {
   "cell_type": "code",
   "execution_count": 79,
   "id": "f56304c2-0e45-4a90-96c0-3e2885fe2dc5",
   "metadata": {},
   "outputs": [
    {
     "data": {
      "text/plain": [
       "1"
      ]
     },
     "execution_count": 79,
     "metadata": {},
     "output_type": "execute_result"
    }
   ],
   "source": [
    "l1[0]"
   ]
  },
  {
   "cell_type": "code",
   "execution_count": 80,
   "id": "ff777f1d-fbe7-4768-a530-8fe294d9bfd9",
   "metadata": {},
   "outputs": [
    {
     "data": {
      "text/plain": [
       "[1, 2, 3]"
      ]
     },
     "execution_count": 80,
     "metadata": {},
     "output_type": "execute_result"
    }
   ],
   "source": [
    "l1[0:3]"
   ]
  },
  {
   "cell_type": "code",
   "execution_count": 81,
   "id": "fa93a582-5135-451e-8589-9fc65db140f8",
   "metadata": {},
   "outputs": [
    {
     "data": {
      "text/plain": [
       "[1, 3, 5]"
      ]
     },
     "execution_count": 81,
     "metadata": {},
     "output_type": "execute_result"
    }
   ],
   "source": [
    "l1[: : 2]"
   ]
  },
  {
   "cell_type": "code",
   "execution_count": 82,
   "id": "9a403501-e807-4185-ada3-5c4b71d37718",
   "metadata": {},
   "outputs": [],
   "source": [
    "l2=[1, \"a\", 1.0]"
   ]
  },
  {
   "cell_type": "code",
   "execution_count": 83,
   "id": "17de6c5b-bb56-48bd-8447-6b136f76a159",
   "metadata": {},
   "outputs": [
    {
     "data": {
      "text/plain": [
       "int"
      ]
     },
     "execution_count": 83,
     "metadata": {},
     "output_type": "execute_result"
    }
   ],
   "source": [
    "type(l2[0])"
   ]
  },
  {
   "cell_type": "code",
   "execution_count": 84,
   "id": "65fd81e2-e16b-4066-a706-af2f268687a9",
   "metadata": {},
   "outputs": [
    {
     "data": {
      "text/plain": [
       "str"
      ]
     },
     "execution_count": 84,
     "metadata": {},
     "output_type": "execute_result"
    }
   ],
   "source": [
    "type(l2[1])"
   ]
  },
  {
   "cell_type": "code",
   "execution_count": 85,
   "id": "b3cabb42-f108-4650-9f96-e18e18178859",
   "metadata": {},
   "outputs": [
    {
     "data": {
      "text/plain": [
       "list"
      ]
     },
     "execution_count": 85,
     "metadata": {},
     "output_type": "execute_result"
    }
   ],
   "source": [
    "type(l2)"
   ]
  },
  {
   "cell_type": "code",
   "execution_count": 86,
   "id": "81537c66-b4d1-4145-900a-2b4968d07e40",
   "metadata": {},
   "outputs": [],
   "source": [
    "l3=[l2, 1, 2.0]"
   ]
  },
  {
   "cell_type": "code",
   "execution_count": 87,
   "id": "2e70b181-b59a-4977-a63a-4a69a549de5e",
   "metadata": {},
   "outputs": [
    {
     "name": "stdout",
     "output_type": "stream",
     "text": [
      "[[1, 'a', 1.0], 1, 2.0]\n"
     ]
    }
   ],
   "source": [
    "print(l3)"
   ]
  },
  {
   "cell_type": "code",
   "execution_count": 88,
   "id": "21a287e8-4fa0-4d6d-9c16-62e04358fd14",
   "metadata": {},
   "outputs": [
    {
     "data": {
      "text/plain": [
       "list"
      ]
     },
     "execution_count": 88,
     "metadata": {},
     "output_type": "execute_result"
    }
   ],
   "source": [
    "type(l3[0])"
   ]
  },
  {
   "cell_type": "code",
   "execution_count": 89,
   "id": "02795623-6e3c-427c-8865-a95fd910889e",
   "metadata": {},
   "outputs": [
    {
     "data": {
      "text/plain": [
       "'a'"
      ]
     },
     "execution_count": 89,
     "metadata": {},
     "output_type": "execute_result"
    }
   ],
   "source": [
    "l3[0][1]"
   ]
  },
  {
   "cell_type": "code",
   "execution_count": 90,
   "id": "3538f42c-ab2f-4b43-8a47-5bd9a0276376",
   "metadata": {},
   "outputs": [
    {
     "data": {
      "text/plain": [
       "[0, 2, 4, 6, 8]"
      ]
     },
     "execution_count": 90,
     "metadata": {},
     "output_type": "execute_result"
    }
   ],
   "source": [
    "list(range(0, 10, 2))"
   ]
  },
  {
   "cell_type": "code",
   "execution_count": 91,
   "id": "992b435c-e612-4a7f-a4e5-a4bc2c98da3e",
   "metadata": {},
   "outputs": [
    {
     "data": {
      "text/plain": [
       "[5, 6, 7, 8, 9, 10, 11, 12, 13, 14]"
      ]
     },
     "execution_count": 91,
     "metadata": {},
     "output_type": "execute_result"
    }
   ],
   "source": [
    "list(range(5, 15))"
   ]
  },
  {
   "cell_type": "code",
   "execution_count": 92,
   "id": "1e709131-5635-4bc0-adf1-3c695208f8f5",
   "metadata": {},
   "outputs": [],
   "source": [
    "l4=list(range(0, 10, 2))"
   ]
  },
  {
   "cell_type": "code",
   "execution_count": 93,
   "id": "4836cf4f-be6f-4ae1-8522-6f8bbd9d52c3",
   "metadata": {},
   "outputs": [],
   "source": [
    "l4.sort(reverse=True)"
   ]
  },
  {
   "cell_type": "code",
   "execution_count": 94,
   "id": "f5380197-b9df-44b6-83aa-51ae9d53b010",
   "metadata": {},
   "outputs": [
    {
     "data": {
      "text/plain": [
       "[8, 6, 4, 2, 0]"
      ]
     },
     "execution_count": 94,
     "metadata": {},
     "output_type": "execute_result"
    }
   ],
   "source": [
    "l4"
   ]
  },
  {
   "cell_type": "code",
   "execution_count": 95,
   "id": "62b38a64-737b-4ab6-8384-1a049d481c1c",
   "metadata": {},
   "outputs": [],
   "source": [
    "l4.append(10)"
   ]
  },
  {
   "cell_type": "code",
   "execution_count": 96,
   "id": "a5d10751-c1d7-4360-81db-2bfa0a8e5c68",
   "metadata": {},
   "outputs": [
    {
     "data": {
      "text/plain": [
       "[8, 6, 4, 2, 0, 10]"
      ]
     },
     "execution_count": 96,
     "metadata": {},
     "output_type": "execute_result"
    }
   ],
   "source": [
    "l4"
   ]
  },
  {
   "cell_type": "code",
   "execution_count": 97,
   "id": "2e08bbc4-49aa-48ac-87af-aca31c50f6ba",
   "metadata": {},
   "outputs": [],
   "source": [
    "l4[0]=3"
   ]
  },
  {
   "cell_type": "code",
   "execution_count": 98,
   "id": "64e8cab2-ee11-40f9-8d60-391c0e0fd825",
   "metadata": {},
   "outputs": [
    {
     "data": {
      "text/plain": [
       "[3, 6, 4, 2, 0, 10]"
      ]
     },
     "execution_count": 98,
     "metadata": {},
     "output_type": "execute_result"
    }
   ],
   "source": [
    "l4"
   ]
  },
  {
   "cell_type": "code",
   "execution_count": 99,
   "id": "80744e83-8a4b-43bf-a9ac-7d56578434a5",
   "metadata": {},
   "outputs": [],
   "source": [
    "l4[1:3]=[5, 7]"
   ]
  },
  {
   "cell_type": "code",
   "execution_count": 100,
   "id": "30333eca-80f8-4493-9378-113d2afb3573",
   "metadata": {},
   "outputs": [
    {
     "data": {
      "text/plain": [
       "[3, 5, 7, 2, 0, 10]"
      ]
     },
     "execution_count": 100,
     "metadata": {},
     "output_type": "execute_result"
    }
   ],
   "source": [
    "l4 "
   ]
  },
  {
   "cell_type": "code",
   "execution_count": 101,
   "id": "be534c6e-ff9a-4b07-a7d7-b81006d1cc21",
   "metadata": {},
   "outputs": [],
   "source": [
    "l4.insert(0, \"15\")"
   ]
  },
  {
   "cell_type": "code",
   "execution_count": 102,
   "id": "4f23b8ce-c1a4-43bc-bbe0-9abcd5a57386",
   "metadata": {},
   "outputs": [
    {
     "data": {
      "text/plain": [
       "['15', 3, 5, 7, 2, 0, 10]"
      ]
     },
     "execution_count": 102,
     "metadata": {},
     "output_type": "execute_result"
    }
   ],
   "source": [
    "l4"
   ]
  },
  {
   "cell_type": "code",
   "execution_count": 103,
   "id": "fe86855f-39db-4ce1-bc54-5fcf7e487dff",
   "metadata": {},
   "outputs": [],
   "source": [
    "l4.remove(3)"
   ]
  },
  {
   "cell_type": "code",
   "execution_count": 104,
   "id": "c545d9bb-1ff5-4b40-b7a3-7340b8d41b6a",
   "metadata": {},
   "outputs": [
    {
     "data": {
      "text/plain": [
       "['15', 5, 7, 2, 0, 10]"
      ]
     },
     "execution_count": 104,
     "metadata": {},
     "output_type": "execute_result"
    }
   ],
   "source": [
    "l4"
   ]
  },
  {
   "cell_type": "code",
   "execution_count": 105,
   "id": "2219e970-3ef8-4447-95e0-217e054619d1",
   "metadata": {},
   "outputs": [],
   "source": [
    "del l4[0]"
   ]
  },
  {
   "cell_type": "code",
   "execution_count": 106,
   "id": "4f20daf6-9ac5-4b4a-a3bf-c775b682fb86",
   "metadata": {},
   "outputs": [
    {
     "data": {
      "text/plain": [
       "[5, 7, 2, 0, 10]"
      ]
     },
     "execution_count": 106,
     "metadata": {},
     "output_type": "execute_result"
    }
   ],
   "source": [
    "l4"
   ]
  },
  {
   "cell_type": "code",
   "execution_count": 107,
   "id": "35fe44fb-b62c-437d-86b8-7dc19ed9b3c5",
   "metadata": {},
   "outputs": [
    {
     "name": "stdout",
     "output_type": "stream",
     "text": [
      "Help on class list in module builtins:\n",
      "\n",
      "class list(object)\n",
      " |  list(iterable=(), /)\n",
      " |  \n",
      " |  Built-in mutable sequence.\n",
      " |  \n",
      " |  If no argument is given, the constructor creates a new empty list.\n",
      " |  The argument must be an iterable if specified.\n",
      " |  \n",
      " |  Methods defined here:\n",
      " |  \n",
      " |  __add__(self, value, /)\n",
      " |      Return self+value.\n",
      " |  \n",
      " |  __contains__(self, key, /)\n",
      " |      Return key in self.\n",
      " |  \n",
      " |  __delitem__(self, key, /)\n",
      " |      Delete self[key].\n",
      " |  \n",
      " |  __eq__(self, value, /)\n",
      " |      Return self==value.\n",
      " |  \n",
      " |  __ge__(self, value, /)\n",
      " |      Return self>=value.\n",
      " |  \n",
      " |  __getattribute__(self, name, /)\n",
      " |      Return getattr(self, name).\n",
      " |  \n",
      " |  __getitem__(...)\n",
      " |      x.__getitem__(y) <==> x[y]\n",
      " |  \n",
      " |  __gt__(self, value, /)\n",
      " |      Return self>value.\n",
      " |  \n",
      " |  __iadd__(self, value, /)\n",
      " |      Implement self+=value.\n",
      " |  \n",
      " |  __imul__(self, value, /)\n",
      " |      Implement self*=value.\n",
      " |  \n",
      " |  __init__(self, /, *args, **kwargs)\n",
      " |      Initialize self.  See help(type(self)) for accurate signature.\n",
      " |  \n",
      " |  __iter__(self, /)\n",
      " |      Implement iter(self).\n",
      " |  \n",
      " |  __le__(self, value, /)\n",
      " |      Return self<=value.\n",
      " |  \n",
      " |  __len__(self, /)\n",
      " |      Return len(self).\n",
      " |  \n",
      " |  __lt__(self, value, /)\n",
      " |      Return self<value.\n",
      " |  \n",
      " |  __mul__(self, value, /)\n",
      " |      Return self*value.\n",
      " |  \n",
      " |  __ne__(self, value, /)\n",
      " |      Return self!=value.\n",
      " |  \n",
      " |  __repr__(self, /)\n",
      " |      Return repr(self).\n",
      " |  \n",
      " |  __reversed__(self, /)\n",
      " |      Return a reverse iterator over the list.\n",
      " |  \n",
      " |  __rmul__(self, value, /)\n",
      " |      Return value*self.\n",
      " |  \n",
      " |  __setitem__(self, key, value, /)\n",
      " |      Set self[key] to value.\n",
      " |  \n",
      " |  __sizeof__(self, /)\n",
      " |      Return the size of the list in memory, in bytes.\n",
      " |  \n",
      " |  append(self, object, /)\n",
      " |      Append object to the end of the list.\n",
      " |  \n",
      " |  clear(self, /)\n",
      " |      Remove all items from list.\n",
      " |  \n",
      " |  copy(self, /)\n",
      " |      Return a shallow copy of the list.\n",
      " |  \n",
      " |  count(self, value, /)\n",
      " |      Return number of occurrences of value.\n",
      " |  \n",
      " |  extend(self, iterable, /)\n",
      " |      Extend list by appending elements from the iterable.\n",
      " |  \n",
      " |  index(self, value, start=0, stop=9223372036854775807, /)\n",
      " |      Return first index of value.\n",
      " |      \n",
      " |      Raises ValueError if the value is not present.\n",
      " |  \n",
      " |  insert(self, index, object, /)\n",
      " |      Insert object before index.\n",
      " |  \n",
      " |  pop(self, index=-1, /)\n",
      " |      Remove and return item at index (default last).\n",
      " |      \n",
      " |      Raises IndexError if list is empty or index is out of range.\n",
      " |  \n",
      " |  remove(self, value, /)\n",
      " |      Remove first occurrence of value.\n",
      " |      \n",
      " |      Raises ValueError if the value is not present.\n",
      " |  \n",
      " |  reverse(self, /)\n",
      " |      Reverse *IN PLACE*.\n",
      " |  \n",
      " |  sort(self, /, *, key=None, reverse=False)\n",
      " |      Sort the list in ascending order and return None.\n",
      " |      \n",
      " |      The sort is in-place (i.e. the list itself is modified) and stable (i.e. the\n",
      " |      order of two equal elements is maintained).\n",
      " |      \n",
      " |      If a key function is given, apply it once to each list item and sort them,\n",
      " |      ascending or descending, according to their function values.\n",
      " |      \n",
      " |      The reverse flag can be set to sort in descending order.\n",
      " |  \n",
      " |  ----------------------------------------------------------------------\n",
      " |  Class methods defined here:\n",
      " |  \n",
      " |  __class_getitem__(...) from builtins.type\n",
      " |      See PEP 585\n",
      " |  \n",
      " |  ----------------------------------------------------------------------\n",
      " |  Static methods defined here:\n",
      " |  \n",
      " |  __new__(*args, **kwargs) from builtins.type\n",
      " |      Create and return a new object.  See help(type) for accurate signature.\n",
      " |  \n",
      " |  ----------------------------------------------------------------------\n",
      " |  Data and other attributes defined here:\n",
      " |  \n",
      " |  __hash__ = None\n",
      "\n"
     ]
    }
   ],
   "source": [
    "help(list)"
   ]
  },
  {
   "cell_type": "markdown",
   "id": "27c5ba02",
   "metadata": {},
   "source": [
    "## Tuples"
   ]
  },
  {
   "cell_type": "code",
   "execution_count": 108,
   "id": "aa322cd9",
   "metadata": {},
   "outputs": [],
   "source": [
    "t1=(1, 2)"
   ]
  },
  {
   "cell_type": "code",
   "execution_count": 109,
   "id": "86b2dc73",
   "metadata": {},
   "outputs": [
    {
     "data": {
      "text/plain": [
       "(1, 2)"
      ]
     },
     "execution_count": 109,
     "metadata": {},
     "output_type": "execute_result"
    }
   ],
   "source": [
    "t1"
   ]
  },
  {
   "cell_type": "code",
   "execution_count": 110,
   "id": "c788ced2",
   "metadata": {},
   "outputs": [
    {
     "ename": "TypeError",
     "evalue": "'tuple' object does not support item assignment",
     "output_type": "error",
     "traceback": [
      "\u001b[1;31m---------------------------------------------------------------------------\u001b[0m",
      "\u001b[1;31mTypeError\u001b[0m                                 Traceback (most recent call last)",
      "Cell \u001b[1;32mIn[110], line 1\u001b[0m\n\u001b[1;32m----> 1\u001b[0m \u001b[43mt1\u001b[49m\u001b[43m[\u001b[49m\u001b[38;5;241;43m0\u001b[39;49m\u001b[43m]\u001b[49m\u001b[38;5;241m=\u001b[39m\u001b[38;5;241m5\u001b[39m    \u001b[38;5;66;03m#Tuples are immutable\u001b[39;00m\n",
      "\u001b[1;31mTypeError\u001b[0m: 'tuple' object does not support item assignment"
     ]
    }
   ],
   "source": [
    "t1[0]=5    #Tuples are immutable"
   ]
  },
  {
   "cell_type": "code",
   "execution_count": 111,
   "id": "52e973f9",
   "metadata": {},
   "outputs": [
    {
     "data": {
      "text/plain": [
       "tuple"
      ]
     },
     "execution_count": 111,
     "metadata": {},
     "output_type": "execute_result"
    }
   ],
   "source": [
    "type(t1)"
   ]
  },
  {
   "cell_type": "markdown",
   "id": "237abe71",
   "metadata": {},
   "source": [
    "## Dictionaries"
   ]
  },
  {
   "cell_type": "code",
   "execution_count": 112,
   "id": "465f11ad",
   "metadata": {},
   "outputs": [],
   "source": [
    "d1={\"key1\":1,\n",
    "   \"key2\":2, \n",
    "   \"key3\":3}"
   ]
  },
  {
   "cell_type": "code",
   "execution_count": 113,
   "id": "48b30943",
   "metadata": {},
   "outputs": [
    {
     "data": {
      "text/plain": [
       "{'key1': 1, 'key2': 2, 'key3': 3}"
      ]
     },
     "execution_count": 113,
     "metadata": {},
     "output_type": "execute_result"
    }
   ],
   "source": [
    "d1"
   ]
  },
  {
   "cell_type": "code",
   "execution_count": 114,
   "id": "34a9b2e4",
   "metadata": {},
   "outputs": [
    {
     "data": {
      "text/plain": [
       "dict"
      ]
     },
     "execution_count": 114,
     "metadata": {},
     "output_type": "execute_result"
    }
   ],
   "source": [
    "type(d1)"
   ]
  },
  {
   "cell_type": "code",
   "execution_count": 115,
   "id": "2d9d18f1",
   "metadata": {},
   "outputs": [
    {
     "data": {
      "text/plain": [
       "1"
      ]
     },
     "execution_count": 115,
     "metadata": {},
     "output_type": "execute_result"
    }
   ],
   "source": [
    "d1[\"key1\"]"
   ]
  },
  {
   "cell_type": "code",
   "execution_count": 116,
   "id": "fb0e15e4",
   "metadata": {
    "scrolled": true
   },
   "outputs": [
    {
     "ename": "KeyError",
     "evalue": "0",
     "output_type": "error",
     "traceback": [
      "\u001b[1;31m---------------------------------------------------------------------------\u001b[0m",
      "\u001b[1;31mKeyError\u001b[0m                                  Traceback (most recent call last)",
      "Cell \u001b[1;32mIn[116], line 1\u001b[0m\n\u001b[1;32m----> 1\u001b[0m \u001b[43md1\u001b[49m\u001b[43m[\u001b[49m\u001b[38;5;241;43m0\u001b[39;49m\u001b[43m]\u001b[49m   \u001b[38;5;66;03m#As we can see here values can be accessed using respective keys, but not using indexing.\u001b[39;00m\n",
      "\u001b[1;31mKeyError\u001b[0m: 0"
     ]
    }
   ],
   "source": [
    "d1[0]   #As we can see here values can be accessed using respective keys, but not using indexing."
   ]
  },
  {
   "cell_type": "code",
   "execution_count": 117,
   "id": "5d27b459",
   "metadata": {},
   "outputs": [
    {
     "name": "stdout",
     "output_type": "stream",
     "text": [
      "Thursday\n"
     ]
    }
   ],
   "source": [
    "days=(\"Monday\", \"Tuesday\", \"Wednesday\", \"Thursday\", \"Friday\")\n",
    "print(days[3])"
   ]
  },
  {
   "cell_type": "markdown",
   "id": "5f8904fe-5c9d-415a-81b4-c225d69ab5ae",
   "metadata": {},
   "source": [
    "# Libraries"
   ]
  },
  {
   "cell_type": "markdown",
   "id": "9208cbc6-b222-4993-aac4-0f027711ef04",
   "metadata": {},
   "source": [
    "## Numpy"
   ]
  },
  {
   "cell_type": "code",
   "execution_count": 118,
   "id": "051c46ba-b188-4689-88f1-20bf75772a9e",
   "metadata": {},
   "outputs": [],
   "source": [
    "import numpy as np"
   ]
  },
  {
   "cell_type": "code",
   "execution_count": 119,
   "id": "f97bb8bd-6156-4977-b886-663b07341153",
   "metadata": {},
   "outputs": [],
   "source": [
    "np1=np.array([1, 2, 3, 4])"
   ]
  },
  {
   "cell_type": "code",
   "execution_count": 120,
   "id": "991f8029-72c6-4d7f-9787-8ab7f431a194",
   "metadata": {},
   "outputs": [
    {
     "data": {
      "text/plain": [
       "array([1, 2, 3, 4])"
      ]
     },
     "execution_count": 120,
     "metadata": {},
     "output_type": "execute_result"
    }
   ],
   "source": [
    "np1"
   ]
  },
  {
   "cell_type": "code",
   "execution_count": 121,
   "id": "6132a02a-d49e-4884-b7d8-219ec39425cc",
   "metadata": {},
   "outputs": [
    {
     "name": "stdout",
     "output_type": "stream",
     "text": [
      "[1 2 3 4]\n"
     ]
    }
   ],
   "source": [
    "print(np1)"
   ]
  },
  {
   "cell_type": "code",
   "execution_count": 122,
   "id": "5f3095e9-9788-44bf-a663-a33d6aaee353",
   "metadata": {},
   "outputs": [
    {
     "data": {
      "text/plain": [
       "numpy.ndarray"
      ]
     },
     "execution_count": 122,
     "metadata": {},
     "output_type": "execute_result"
    }
   ],
   "source": [
    "type(np1)"
   ]
  },
  {
   "cell_type": "code",
   "execution_count": 123,
   "id": "1ad6cccd-3dcc-488a-a9c8-ffa094efad6e",
   "metadata": {},
   "outputs": [],
   "source": [
    "Mat1=np.array([[1, 2], [3, 4]])"
   ]
  },
  {
   "cell_type": "code",
   "execution_count": 124,
   "id": "28f86906-be84-42a1-9116-24465fd38f27",
   "metadata": {},
   "outputs": [
    {
     "data": {
      "text/plain": [
       "array([[1, 2],\n",
       "       [3, 4]])"
      ]
     },
     "execution_count": 124,
     "metadata": {},
     "output_type": "execute_result"
    }
   ],
   "source": [
    "Mat1"
   ]
  },
  {
   "cell_type": "code",
   "execution_count": 125,
   "id": "0a31667b-b3e0-46b6-8d80-2621807934d0",
   "metadata": {},
   "outputs": [
    {
     "name": "stdout",
     "output_type": "stream",
     "text": [
      "[[1 2]\n",
      " [3 4]]\n"
     ]
    }
   ],
   "source": [
    "print(Mat1)"
   ]
  },
  {
   "cell_type": "code",
   "execution_count": 126,
   "id": "388f7c50-7990-478e-af47-15971846d56c",
   "metadata": {},
   "outputs": [
    {
     "data": {
      "text/plain": [
       "(4,)"
      ]
     },
     "execution_count": 126,
     "metadata": {},
     "output_type": "execute_result"
    }
   ],
   "source": [
    "np1.shape"
   ]
  },
  {
   "cell_type": "code",
   "execution_count": 127,
   "id": "f986cc10-c126-49cf-96eb-4d65925d4fb7",
   "metadata": {},
   "outputs": [
    {
     "data": {
      "text/plain": [
       "(2, 2)"
      ]
     },
     "execution_count": 127,
     "metadata": {},
     "output_type": "execute_result"
    }
   ],
   "source": [
    "Mat1.shape"
   ]
  },
  {
   "cell_type": "code",
   "execution_count": 128,
   "id": "bb9e9a40-edaa-465f-9a72-7e45dfb92e7f",
   "metadata": {},
   "outputs": [
    {
     "data": {
      "text/plain": [
       "dtype('int32')"
      ]
     },
     "execution_count": 128,
     "metadata": {},
     "output_type": "execute_result"
    }
   ],
   "source": [
    "Mat1.dtype"
   ]
  },
  {
   "cell_type": "code",
   "execution_count": 129,
   "id": "52a1b5e3-7144-4bcf-a3c2-12067db6b89b",
   "metadata": {},
   "outputs": [],
   "source": [
    "Mat1[0, 0]=5"
   ]
  },
  {
   "cell_type": "code",
   "execution_count": 130,
   "id": "5a5e690c-7ab3-4b54-89ca-0415bb5bd832",
   "metadata": {},
   "outputs": [
    {
     "data": {
      "text/plain": [
       "array([[5, 2],\n",
       "       [3, 4]])"
      ]
     },
     "execution_count": 130,
     "metadata": {},
     "output_type": "execute_result"
    }
   ],
   "source": [
    "Mat1"
   ]
  },
  {
   "cell_type": "code",
   "execution_count": 131,
   "id": "448e867d-8c47-480c-ad35-373a4eebf95f",
   "metadata": {},
   "outputs": [
    {
     "ename": "ValueError",
     "evalue": "invalid literal for int() with base 10: 'String'",
     "output_type": "error",
     "traceback": [
      "\u001b[1;31m---------------------------------------------------------------------------\u001b[0m",
      "\u001b[1;31mValueError\u001b[0m                                Traceback (most recent call last)",
      "Cell \u001b[1;32mIn[131], line 1\u001b[0m\n\u001b[1;32m----> 1\u001b[0m \u001b[43mMat1\u001b[49m\u001b[43m[\u001b[49m\u001b[38;5;241;43m0\u001b[39;49m\u001b[43m,\u001b[49m\u001b[43m \u001b[49m\u001b[38;5;241;43m0\u001b[39;49m\u001b[43m]\u001b[49m\u001b[38;5;241m=\u001b[39m\u001b[38;5;124m\"\u001b[39m\u001b[38;5;124mString\u001b[39m\u001b[38;5;124m\"\u001b[39m\n",
      "\u001b[1;31mValueError\u001b[0m: invalid literal for int() with base 10: 'String'"
     ]
    }
   ],
   "source": [
    "Mat1[0, 0]=\"String\""
   ]
  },
  {
   "cell_type": "code",
   "execution_count": 132,
   "id": "7679a2e6-2055-438f-ad17-6c1a57d1aa2d",
   "metadata": {},
   "outputs": [],
   "source": [
    "Mat2=np.arange(0, 10, 1)"
   ]
  },
  {
   "cell_type": "code",
   "execution_count": 134,
   "id": "e0498420-4244-4b83-a7c1-c777ddd7e768",
   "metadata": {},
   "outputs": [
    {
     "data": {
      "text/plain": [
       "array([0, 1, 2, 3, 4, 5, 6, 7, 8, 9])"
      ]
     },
     "execution_count": 134,
     "metadata": {},
     "output_type": "execute_result"
    }
   ],
   "source": [
    "Mat2"
   ]
  },
  {
   "cell_type": "code",
   "execution_count": 135,
   "id": "f62788a7-ea64-4fa6-99c9-ea3f9e982053",
   "metadata": {},
   "outputs": [],
   "source": [
    "Mat3=np.linspace(0, 10, 20)"
   ]
  },
  {
   "cell_type": "code",
   "execution_count": 136,
   "id": "460d23de-1f8f-4e4d-b6d8-f5e9a4381e0f",
   "metadata": {},
   "outputs": [
    {
     "data": {
      "text/plain": [
       "array([ 0.        ,  0.52631579,  1.05263158,  1.57894737,  2.10526316,\n",
       "        2.63157895,  3.15789474,  3.68421053,  4.21052632,  4.73684211,\n",
       "        5.26315789,  5.78947368,  6.31578947,  6.84210526,  7.36842105,\n",
       "        7.89473684,  8.42105263,  8.94736842,  9.47368421, 10.        ])"
      ]
     },
     "execution_count": 136,
     "metadata": {},
     "output_type": "execute_result"
    }
   ],
   "source": [
    "Mat3"
   ]
  },
  {
   "cell_type": "code",
   "execution_count": 137,
   "id": "3f0efa0c-0f08-4b11-a63c-e8817519965a",
   "metadata": {},
   "outputs": [],
   "source": [
    "Mat4=np.random.rand(5, 5)"
   ]
  },
  {
   "cell_type": "code",
   "execution_count": 138,
   "id": "7306d6de-f959-4fd4-adbd-2e1d6a52fc01",
   "metadata": {},
   "outputs": [
    {
     "data": {
      "text/plain": [
       "array([[0.78641023, 0.87464832, 0.61225613, 0.95142742, 0.63122329],\n",
       "       [0.59104093, 0.17533257, 0.96853066, 0.39773201, 0.34651583],\n",
       "       [0.10795922, 0.61372132, 0.61653867, 0.28528065, 0.89183981],\n",
       "       [0.93328653, 0.21919989, 0.76352349, 0.33782859, 0.18536352],\n",
       "       [0.28617794, 0.80417244, 0.15831426, 0.928065  , 0.72424925]])"
      ]
     },
     "execution_count": 138,
     "metadata": {},
     "output_type": "execute_result"
    }
   ],
   "source": [
    "Mat4"
   ]
  },
  {
   "cell_type": "code",
   "execution_count": 139,
   "id": "b058d2dd-cb93-4366-9242-11e222a90646",
   "metadata": {},
   "outputs": [],
   "source": [
    "Mat5=np.random.randn(5, 5)"
   ]
  },
  {
   "cell_type": "code",
   "execution_count": 140,
   "id": "d295fc73-3776-46db-a0ba-d4330870484d",
   "metadata": {},
   "outputs": [
    {
     "data": {
      "text/plain": [
       "array([[ 0.83136624,  1.47181415, -1.09969363,  1.03348628,  0.21868628],\n",
       "       [-0.92026894, -0.18433964, -0.77936195,  0.38146939, -1.67402742],\n",
       "       [ 1.99980788, -0.24127658, -0.43462467, -0.12218696, -1.79132575],\n",
       "       [ 0.67828878, -0.88812769, -0.38597434, -0.89927362, -0.25346696],\n",
       "       [-0.25819987, -0.81725517,  0.54310917, -0.12777682,  1.09843213]])"
      ]
     },
     "execution_count": 140,
     "metadata": {},
     "output_type": "execute_result"
    }
   ],
   "source": [
    "Mat5"
   ]
  },
  {
   "cell_type": "code",
   "execution_count": null,
   "id": "285b1ae5",
   "metadata": {},
   "outputs": [],
   "source": []
  },
  {
   "cell_type": "code",
   "execution_count": 141,
   "id": "e3775fc6-7d46-4710-9ce4-562a5f6fe444",
   "metadata": {},
   "outputs": [
    {
     "data": {
      "text/plain": [
       "0.8313662369990739"
      ]
     },
     "execution_count": 141,
     "metadata": {},
     "output_type": "execute_result"
    }
   ],
   "source": [
    "Mat5[0, 0]"
   ]
  },
  {
   "cell_type": "code",
   "execution_count": 142,
   "id": "9a7bc1de-7735-43f2-8924-b749356e7c86",
   "metadata": {},
   "outputs": [
    {
     "data": {
      "text/plain": [
       "1.4718141499490591"
      ]
     },
     "execution_count": 142,
     "metadata": {},
     "output_type": "execute_result"
    }
   ],
   "source": [
    "Mat5[0, 1]"
   ]
  },
  {
   "cell_type": "code",
   "execution_count": 143,
   "id": "4ca30df0-39c3-4c20-afa1-b6f70d699c4e",
   "metadata": {},
   "outputs": [
    {
     "name": "stdout",
     "output_type": "stream",
     "text": [
      "[ 0.83136624 -0.18433964 -0.43462467 -0.89927362  1.09843213]\n"
     ]
    }
   ],
   "source": [
    "print(np.diag(Mat5))"
   ]
  },
  {
   "cell_type": "code",
   "execution_count": 144,
   "id": "dfabdc43-243a-4087-ab2e-ddd989ce02e3",
   "metadata": {},
   "outputs": [],
   "source": [
    "Mat6=np.zeros(4)"
   ]
  },
  {
   "cell_type": "code",
   "execution_count": 145,
   "id": "140adfd4-bb96-4b3d-8fa3-9874884903f1",
   "metadata": {},
   "outputs": [
    {
     "data": {
      "text/plain": [
       "array([0., 0., 0., 0.])"
      ]
     },
     "execution_count": 145,
     "metadata": {},
     "output_type": "execute_result"
    }
   ],
   "source": [
    "Mat6"
   ]
  },
  {
   "cell_type": "code",
   "execution_count": 146,
   "id": "13a9fdf0-c963-42c5-905c-c5380c50ae9b",
   "metadata": {},
   "outputs": [
    {
     "name": "stdout",
     "output_type": "stream",
     "text": [
      "[0. 0. 0. 0.]\n"
     ]
    }
   ],
   "source": [
    "print(Mat6)"
   ]
  },
  {
   "cell_type": "code",
   "execution_count": 147,
   "id": "03b16666-21ce-440b-b9d2-b9b10fda4ff6",
   "metadata": {},
   "outputs": [
    {
     "data": {
      "text/plain": [
       "dtype('float64')"
      ]
     },
     "execution_count": 147,
     "metadata": {},
     "output_type": "execute_result"
    }
   ],
   "source": [
    "Mat6.dtype"
   ]
  },
  {
   "cell_type": "code",
   "execution_count": 148,
   "id": "15459fb4-acad-4b6a-bbb7-657a339192d9",
   "metadata": {},
   "outputs": [],
   "source": [
    "Mat7=np.zeros((4, 4))"
   ]
  },
  {
   "cell_type": "code",
   "execution_count": 149,
   "id": "15c6b08a-f553-43ee-b949-82f971e3a76d",
   "metadata": {},
   "outputs": [
    {
     "data": {
      "text/plain": [
       "array([[0., 0., 0., 0.],\n",
       "       [0., 0., 0., 0.],\n",
       "       [0., 0., 0., 0.],\n",
       "       [0., 0., 0., 0.]])"
      ]
     },
     "execution_count": 149,
     "metadata": {},
     "output_type": "execute_result"
    }
   ],
   "source": [
    "Mat7"
   ]
  },
  {
   "cell_type": "code",
   "execution_count": 150,
   "id": "493781c9-5e1c-466a-93c3-f9f02dc0c7f0",
   "metadata": {},
   "outputs": [],
   "source": [
    "Mat8=np.ones((5, 5))"
   ]
  },
  {
   "cell_type": "code",
   "execution_count": 151,
   "id": "48b00d3d-8bdd-4fa5-b5be-15475d413350",
   "metadata": {},
   "outputs": [
    {
     "data": {
      "text/plain": [
       "array([[1., 1., 1., 1., 1.],\n",
       "       [1., 1., 1., 1., 1.],\n",
       "       [1., 1., 1., 1., 1.],\n",
       "       [1., 1., 1., 1., 1.],\n",
       "       [1., 1., 1., 1., 1.]])"
      ]
     },
     "execution_count": 151,
     "metadata": {},
     "output_type": "execute_result"
    }
   ],
   "source": [
    "Mat8"
   ]
  },
  {
   "cell_type": "code",
   "execution_count": 152,
   "id": "bb2eee92-bed5-453e-87db-dd40541959e1",
   "metadata": {},
   "outputs": [
    {
     "data": {
      "text/plain": [
       "array([[ 0.83136624,  1.47181415, -1.09969363,  1.03348628,  0.21868628],\n",
       "       [-0.92026894, -0.18433964, -0.77936195,  0.38146939, -1.67402742],\n",
       "       [ 1.99980788, -0.24127658, -0.43462467, -0.12218696, -1.79132575],\n",
       "       [ 0.67828878, -0.88812769, -0.38597434, -0.89927362, -0.25346696],\n",
       "       [-0.25819987, -0.81725517,  0.54310917, -0.12777682,  1.09843213]])"
      ]
     },
     "execution_count": 152,
     "metadata": {},
     "output_type": "execute_result"
    }
   ],
   "source": [
    "Mat5"
   ]
  },
  {
   "cell_type": "code",
   "execution_count": 155,
   "id": "1fc4da84-6f34-4fa2-9e16-25a3b37c1bae",
   "metadata": {},
   "outputs": [
    {
     "data": {
      "text/plain": [
       "array([[ 0.83136624,  1.47181415, -1.09969363,  1.03348628,  0.21868628],\n",
       "       [-0.92026894, -0.18433964, -0.77936195,  0.38146939, -1.67402742],\n",
       "       [ 1.99980788, -0.24127658, -0.43462467, -0.12218696, -1.79132575]])"
      ]
     },
     "execution_count": 155,
     "metadata": {},
     "output_type": "execute_result"
    }
   ],
   "source": [
    "Mat5[0:3][0:5]"
   ]
  },
  {
   "cell_type": "code",
   "execution_count": 156,
   "id": "070c738c-0281-4337-8c46-fa9c198a9106",
   "metadata": {},
   "outputs": [
    {
     "data": {
      "text/plain": [
       "array([[ 0.83136624,  1.47181415, -1.09969363,  1.03348628,  0.21868628],\n",
       "       [-0.92026894, -0.18433964, -0.77936195,  0.38146939, -1.67402742],\n",
       "       [ 1.99980788, -0.24127658, -0.43462467, -0.12218696, -1.79132575]])"
      ]
     },
     "execution_count": 156,
     "metadata": {},
     "output_type": "execute_result"
    }
   ],
   "source": [
    "Mat5[0:3][:]"
   ]
  },
  {
   "cell_type": "code",
   "execution_count": 157,
   "id": "b84d9d65-f564-45e7-ac16-c073e92752aa",
   "metadata": {},
   "outputs": [
    {
     "data": {
      "text/plain": [
       "array([[ 0.83136624,  1.47181415, -1.09969363,  1.03348628,  0.21868628],\n",
       "       [-0.92026894, -0.18433964, -0.77936195,  0.38146939, -1.67402742],\n",
       "       [ 1.99980788, -0.24127658, -0.43462467, -0.12218696, -1.79132575]])"
      ]
     },
     "execution_count": 157,
     "metadata": {},
     "output_type": "execute_result"
    }
   ],
   "source": [
    "Mat5[0:3, : ]"
   ]
  }
 ],
 "metadata": {
  "kernelspec": {
   "display_name": "Python 3 (ipykernel)",
   "language": "python",
   "name": "python3"
  },
  "language_info": {
   "codemirror_mode": {
    "name": "ipython",
    "version": 3
   },
   "file_extension": ".py",
   "mimetype": "text/x-python",
   "name": "python",
   "nbconvert_exporter": "python",
   "pygments_lexer": "ipython3",
   "version": "3.11.7"
  }
 },
 "nbformat": 4,
 "nbformat_minor": 5
}
